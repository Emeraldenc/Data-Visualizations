{
 "cells": [
  {
   "cell_type": "markdown",
   "metadata": {
    "collapsed": true,
    "pycharm": {
     "name": "#%% md\n"
    }
   },
   "source": [
    "# 6.2 Exercises: Histograms, Box Plots, & Bullet Charts\n",
    "student: Rachel Nelson\n",
    "\n",
    "class: DSC640-T302 Data Presentation & Visualization (2221-1)"
   ]
  },
  {
   "cell_type": "code",
   "execution_count": 205,
   "outputs": [],
   "source": [
    "# Import Packages\n",
    "import matplotlib.pyplot as plt\n",
    "import numpy as np\n",
    "import pandas as pd\n",
    "import seaborn as sns\n",
    "import plotly as py\n",
    "import plotly.figure_factory as ff\n",
    "import plotly.graph_objects as go\n",
    "import plotly.express as px"
   ],
   "metadata": {
    "collapsed": false,
    "pycharm": {
     "name": "#%%\n"
    }
   }
  },
  {
   "cell_type": "code",
   "execution_count": 206,
   "outputs": [
    {
     "data": {
      "text/plain": "           state  murder  forcible_rape  robbery  aggravated_assault  \\\n0  United States     5.6           31.7    140.7               291.1   \n1        Alabama     8.2           34.3    141.4               247.8   \n2         Alaska     4.8           81.1     80.9               465.1   \n3        Arizona     7.5           33.8    144.4               327.4   \n4       Arkansas     6.7           42.9     91.1               386.8   \n\n   burglary  larceny_theft  motor_vehicle_theft  population  \n0     726.7         2286.3                416.7   295753151  \n1     953.8         2650.0                288.3     4545049  \n2     622.5         2599.1                391.0      669488  \n3     948.4         2965.2                924.4     5974834  \n4    1084.6         2711.2                262.1     2776221  ",
      "text/html": "<div>\n<style scoped>\n    .dataframe tbody tr th:only-of-type {\n        vertical-align: middle;\n    }\n\n    .dataframe tbody tr th {\n        vertical-align: top;\n    }\n\n    .dataframe thead th {\n        text-align: right;\n    }\n</style>\n<table border=\"1\" class=\"dataframe\">\n  <thead>\n    <tr style=\"text-align: right;\">\n      <th></th>\n      <th>state</th>\n      <th>murder</th>\n      <th>forcible_rape</th>\n      <th>robbery</th>\n      <th>aggravated_assault</th>\n      <th>burglary</th>\n      <th>larceny_theft</th>\n      <th>motor_vehicle_theft</th>\n      <th>population</th>\n    </tr>\n  </thead>\n  <tbody>\n    <tr>\n      <th>0</th>\n      <td>United States</td>\n      <td>5.6</td>\n      <td>31.7</td>\n      <td>140.7</td>\n      <td>291.1</td>\n      <td>726.7</td>\n      <td>2286.3</td>\n      <td>416.7</td>\n      <td>295753151</td>\n    </tr>\n    <tr>\n      <th>1</th>\n      <td>Alabama</td>\n      <td>8.2</td>\n      <td>34.3</td>\n      <td>141.4</td>\n      <td>247.8</td>\n      <td>953.8</td>\n      <td>2650.0</td>\n      <td>288.3</td>\n      <td>4545049</td>\n    </tr>\n    <tr>\n      <th>2</th>\n      <td>Alaska</td>\n      <td>4.8</td>\n      <td>81.1</td>\n      <td>80.9</td>\n      <td>465.1</td>\n      <td>622.5</td>\n      <td>2599.1</td>\n      <td>391.0</td>\n      <td>669488</td>\n    </tr>\n    <tr>\n      <th>3</th>\n      <td>Arizona</td>\n      <td>7.5</td>\n      <td>33.8</td>\n      <td>144.4</td>\n      <td>327.4</td>\n      <td>948.4</td>\n      <td>2965.2</td>\n      <td>924.4</td>\n      <td>5974834</td>\n    </tr>\n    <tr>\n      <th>4</th>\n      <td>Arkansas</td>\n      <td>6.7</td>\n      <td>42.9</td>\n      <td>91.1</td>\n      <td>386.8</td>\n      <td>1084.6</td>\n      <td>2711.2</td>\n      <td>262.1</td>\n      <td>2776221</td>\n    </tr>\n  </tbody>\n</table>\n</div>"
     },
     "execution_count": 206,
     "metadata": {},
     "output_type": "execute_result"
    }
   ],
   "source": [
    "# Import data into dataframe and get summary statistics\n",
    "df = pd.read_csv('D:/College/DSC640/ex4-2/ex4-2/crimerates-by-state-2005.csv')\n",
    "df.describe()\n",
    "df.head(5)\n"
   ],
   "metadata": {
    "collapsed": false,
    "pycharm": {
     "name": "#%%\n"
    }
   }
  },
  {
   "cell_type": "code",
   "execution_count": 207,
   "outputs": [
    {
     "data": {
      "text/plain": "Text(0.5, 1.0, 'Python - Histogram')"
     },
     "execution_count": 207,
     "metadata": {},
     "output_type": "execute_result"
    },
    {
     "data": {
      "text/plain": "<Figure size 360x360 with 1 Axes>",
      "image/png": "[encoded data removed]"
     },
     "metadata": {
      "needs_background": "light"
     },
     "output_type": "display_data"
    }
   ],
   "source": [
    "#Python Histogram on burglary data\n",
    "sns.displot(df['burglary'], bins=14, kde=True)\n",
    "plt.title('Python - Histogram')"
   ],
   "metadata": {
    "collapsed": false,
    "pycharm": {
     "name": "#%%\n"
    }
   }
  },
  {
   "cell_type": "code",
   "execution_count": 208,
   "outputs": [
    {
     "data": {
      "text/plain": "Text(0.5, 1.0, 'Python - Box plot')"
     },
     "execution_count": 208,
     "metadata": {},
     "output_type": "execute_result"
    },
    {
     "data": {
      "text/plain": "<Figure size 432x288 with 1 Axes>",
      "image/png": "[encoded data removed]"
     },
     "metadata": {
      "needs_background": "light"
     },
     "output_type": "display_data"
    }
   ],
   "source": [
    "#Python Box plot on burglary data\n",
    "sns.boxplot(x=df['burglary'])\n",
    "plt.title('Python - Box plot')\n"
   ],
   "metadata": {
    "collapsed": false,
    "pycharm": {
     "name": "#%%\n"
    }
   }
  },
  {
   "cell_type": "code",
   "execution_count": 209,
   "outputs": [
    {
     "data": {
      "text/plain": "Text(0.5, 1.0, 'Bullet Chart - Python')"
     },
     "execution_count": 209,
     "metadata": {},
     "output_type": "execute_result"
    },
    {
     "data": {
      "text/plain": "<Figure size 720x2880 with 1 Axes>",
      "image/png": "[encoded data removed]"
     },
     "metadata": {
      "needs_background": "light"
     },
     "output_type": "display_data"
    }
   ],
   "source": [
    "#Python Bullet Chart\n",
    "plt.figure(figsize=(10, 40))\n",
    "plt.barh(np.arange(len(df['state'])),df['larceny_theft'],color='#4f3674', yerr=len(df['state'])*.01)\n",
    "plt.barh(np.arange(len(df['state'])),df['burglary'], color='#f0a412', height = .3)\n",
    "plt.yticks(np.arange(len(df['state'])), df['state'], size=25)\n",
    "plt.gca().invert_yaxis()\n",
    "plt.xlabel(\"Total Burglaries vs Larceny Theft\", size=25)\n",
    "plt.title(\"Bullet Chart - Python\", size=25)"
   ],
   "metadata": {
    "collapsed": false,
    "pycharm": {
     "name": "#%%\n"
    }
   }
  },
  {
   "cell_type": "code",
   "execution_count": 212,
   "outputs": [
    {
     "data": {
      "application/vnd.plotly.v1+json": {
       "config": {
        "plotlyServerURL": "https://plot.ly"
       },
       "data": [
        {
         "hovertemplate": "<b>%{hovertext}</b><br><br>state=United States<br>larceny_theft=%{x}<br>burglary=%{y}<br>population=%{marker.size}<extra></extra>",
         "hovertext": [
          "United States"
         ],
         "legendgroup": "United States",
         "marker": {
          "color": "#636efa",
          "size": [
           295753151
          ],
          "sizemode": "area",
          "sizeref": 82153.65305555555,
          "symbol": "circle"
         },
         "mode": "markers",
         "name": "United States",
         "orientation": "v",
         "showlegend": true,
         "type": "scatter",
         "x": [
          2286.3
         ],
         "xaxis": "x",
         "y": [
          726.7
         ],
         "yaxis": "y"
        },
        {
         "hovertemplate": "<b>%{hovertext}</b><br><br>state=Alabama<br>larceny_theft=%{x}<br>burglary=%{y}<br>population=%{marker.size}<extra></extra>",
         "hovertext": [
          "Alabama"
         ],
         "legendgroup": "Alabama",
         "marker": {
          "color": "#EF553B",
          "size": [
           4545049
          ],
          "sizemode": "area",
          "sizeref": 82153.65305555555,
          "symbol": "circle"
         },
         "mode": "markers",
         "name": "Alabama",
         "orientation": "v",
         "showlegend": true,
         "type": "scatter",
         "x": [
          2650.0
         ],
         "xaxis": "x",
         "y": [
          953.8
         ],
         "yaxis": "y"
        },
        {
         "hovertemplate": "<b>%{hovertext}</b><br><br>state=Alaska<br>larceny_theft=%{x}<br>burglary=%{y}<br>population=%{marker.size}<extra></extra>",
         "hovertext": [
          "Alaska"
         ],
         "legendgroup": "Alaska",
         "marker": {
          "color": "#00cc96",
          "size": [
           669488
          ],
          "sizemode": "area",
          "sizeref": 82153.65305555555,
          "symbol": "circle"
         },
         "mode": "markers",
         "name": "Alaska",
         "orientation": "v",
         "showlegend": true,
         "type": "scatter",
         "x": [
          2599.1
         ],
         "xaxis": "x",
         "y": [
          622.5
         ],
         "yaxis": "y"
        },
        {
         "hovertemplate": "<b>%{hovertext}</b><br><br>state=Arizona<br>larceny_theft=%{x}<br>burglary=%{y}<br>population=%{marker.size}<extra></extra>",
         "hovertext": [
          "Arizona"
         ],
         "legendgroup": "Arizona",
         "marker": {
          "color": "#ab63fa",
          "size": [
           5974834
          ],
          "sizemode": "area",
          "sizeref": 82153.65305555555,
          "symbol": "circle"
         },
         "mode": "markers",
         "name": "Arizona",
         "orientation": "v",
         "showlegend": true,
         "type": "scatter",
         "x": [
          2965.2
         ],
         "xaxis": "x",
         "y": [
          948.4
         ],
         "yaxis": "y"
        },
        {
         "hovertemplate": "<b>%{hovertext}</b><br><br>state=Arkansas<br>larceny_theft=%{x}<br>burglary=%{y}<br>population=%{marker.size}<extra></extra>",
         "hovertext": [
          "Arkansas"
         ],
         "legendgroup": "Arkansas",
         "marker": {
          "color": "#FFA15A",
          "size": [
           2776221
          ],
          "sizemode": "area",
          "sizeref": 82153.65305555555,
          "symbol": "circle"
         },
         "mode": "markers",
         "name": "Arkansas",
         "orientation": "v",
         "showlegend": true,
         "type": "scatter",
         "x": [
          2711.2
         ],
         "xaxis": "x",
         "y": [
          1084.6
         ],
         "yaxis": "y"
        },
        {
         "hovertemplate": "<b>%{hovertext}</b><br><br>state=California<br>larceny_theft=%{x}<br>burglary=%{y}<br>population=%{marker.size}<extra></extra>",
         "hovertext": [
          "California"
         ],
         "legendgroup": "California",
         "marker": {
          "color": "#19d3f3",
          "size": [
           35795255
          ],
          "sizemode": "area",
          "sizeref": 82153.65305555555,
          "symbol": "circle"
         },
         "mode": "markers",
         "name": "California",
         "orientation": "v",
         "showlegend": true,
         "type": "scatter",
         "x": [
          1916.5
         ],
         "xaxis": "x",
         "y": [
          693.3
         ],
         "yaxis": "y"
        },
        {
         "hovertemplate": "<b>%{hovertext}</b><br><br>state=Colorado<br>larceny_theft=%{x}<br>burglary=%{y}<br>population=%{marker.size}<extra></extra>",
         "hovertext": [
          "Colorado"
         ],
         "legendgroup": "Colorado",
         "marker": {
          "color": "#FF6692",
          "size": [
           4660780
          ],
          "sizemode": "area",
          "sizeref": 82153.65305555555,
          "symbol": "circle"
         },
         "mode": "markers",
         "name": "Colorado",
         "orientation": "v",
         "showlegend": true,
         "type": "scatter",
         "x": [
          2735.2
         ],
         "xaxis": "x",
         "y": [
          744.8
         ],
         "yaxis": "y"
        },
        {
         "hovertemplate": "<b>%{hovertext}</b><br><br>state=Connecticut<br>larceny_theft=%{x}<br>burglary=%{y}<br>population=%{marker.size}<extra></extra>",
         "hovertext": [
          "Connecticut"
         ],
         "legendgroup": "Connecticut",
         "marker": {
          "color": "#B6E880",
          "size": [
           3477416
          ],
          "sizemode": "area",
          "sizeref": 82153.65305555555,
          "symbol": "circle"
         },
         "mode": "markers",
         "name": "Connecticut",
         "orientation": "v",
         "showlegend": true,
         "type": "scatter",
         "x": [
          1824.1
         ],
         "xaxis": "x",
         "y": [
          437.1
         ],
         "yaxis": "y"
        },
        {
         "hovertemplate": "<b>%{hovertext}</b><br><br>state=Delaware<br>larceny_theft=%{x}<br>burglary=%{y}<br>population=%{marker.size}<extra></extra>",
         "hovertext": [
          "Delaware"
         ],
         "legendgroup": "Delaware",
         "marker": {
          "color": "#FF97FF",
          "size": [
           839906
          ],
          "sizemode": "area",
          "sizeref": 82153.65305555555,
          "symbol": "circle"
         },
         "mode": "markers",
         "name": "Delaware",
         "orientation": "v",
         "showlegend": true,
         "type": "scatter",
         "x": [
          2144.0
         ],
         "xaxis": "x",
         "y": [
          688.9
         ],
         "yaxis": "y"
        },
        {
         "hovertemplate": "<b>%{hovertext}</b><br><br>state=District of Columbia<br>larceny_theft=%{x}<br>burglary=%{y}<br>population=%{marker.size}<extra></extra>",
         "hovertext": [
          "District of Columbia"
         ],
         "legendgroup": "District of Columbia",
         "marker": {
          "color": "#FECB52",
          "size": [
           582049
          ],
          "sizemode": "area",
          "sizeref": 82153.65305555555,
          "symbol": "circle"
         },
         "mode": "markers",
         "name": "District of Columbia",
         "orientation": "v",
         "showlegend": true,
         "type": "scatter",
         "x": [
          2694.9
         ],
         "xaxis": "x",
         "y": [
          649.7
         ],
         "yaxis": "y"
        },
        {
         "hovertemplate": "<b>%{hovertext}</b><br><br>state=Florida<br>larceny_theft=%{x}<br>burglary=%{y}<br>population=%{marker.size}<extra></extra>",
         "hovertext": [
          "Florida"
         ],
         "legendgroup": "Florida",
         "marker": {
          "color": "#636efa",
          "size": [
           17783868
          ],
          "sizemode": "area",
          "sizeref": 82153.65305555555,
          "symbol": "circle"
         },
         "mode": "markers",
         "name": "Florida",
         "orientation": "v",
         "showlegend": true,
         "type": "scatter",
         "x": [
          2658.3
         ],
         "xaxis": "x",
         "y": [
          926.3
         ],
         "yaxis": "y"
        },
        {
         "hovertemplate": "<b>%{hovertext}</b><br><br>state=Georgia<br>larceny_theft=%{x}<br>burglary=%{y}<br>population=%{marker.size}<extra></extra>",
         "hovertext": [
          "Georgia"
         ],
         "legendgroup": "Georgia",
         "marker": {
          "color": "#EF553B",
          "size": [
           9097428
          ],
          "sizemode": "area",
          "sizeref": 82153.65305555555,
          "symbol": "circle"
         },
         "mode": "markers",
         "name": "Georgia",
         "orientation": "v",
         "showlegend": true,
         "type": "scatter",
         "x": [
          2751.1
         ],
         "xaxis": "x",
         "y": [
          931.0
         ],
         "yaxis": "y"
        },
        {
         "hovertemplate": "<b>%{hovertext}</b><br><br>state=Hawaii<br>larceny_theft=%{x}<br>burglary=%{y}<br>population=%{marker.size}<extra></extra>",
         "hovertext": [
          "Hawaii"
         ],
         "legendgroup": "Hawaii",
         "marker": {
          "color": "#00cc96",
          "size": [
           1266117
          ],
          "sizemode": "area",
          "sizeref": 82153.65305555555,
          "symbol": "circle"
         },
         "mode": "markers",
         "name": "Hawaii",
         "orientation": "v",
         "showlegend": true,
         "type": "scatter",
         "x": [
          3308.4
         ],
         "xaxis": "x",
         "y": [
          767.9
         ],
         "yaxis": "y"
        },
        {
         "hovertemplate": "<b>%{hovertext}</b><br><br>state=Idaho<br>larceny_theft=%{x}<br>burglary=%{y}<br>population=%{marker.size}<extra></extra>",
         "hovertext": [
          "Idaho"
         ],
         "legendgroup": "Idaho",
         "marker": {
          "color": "#ab63fa",
          "size": [
           1425862
          ],
          "sizemode": "area",
          "sizeref": 82153.65305555555,
          "symbol": "circle"
         },
         "mode": "markers",
         "name": "Idaho",
         "orientation": "v",
         "showlegend": true,
         "type": "scatter",
         "x": [
          1931.7
         ],
         "xaxis": "x",
         "y": [
          564.4
         ],
         "yaxis": "y"
        },
        {
         "hovertemplate": "<b>%{hovertext}</b><br><br>state=Illinois<br>larceny_theft=%{x}<br>burglary=%{y}<br>population=%{marker.size}<extra></extra>",
         "hovertext": [
          "Illinois"
         ],
         "legendgroup": "Illinois",
         "marker": {
          "color": "#FFA15A",
          "size": [
           12674452
          ],
          "sizemode": "area",
          "sizeref": 82153.65305555555,
          "symbol": "circle"
         },
         "mode": "markers",
         "name": "Illinois",
         "orientation": "v",
         "showlegend": true,
         "type": "scatter",
         "x": [
          2164.8
         ],
         "xaxis": "x",
         "y": [
          606.9
         ],
         "yaxis": "y"
        },
        {
         "hovertemplate": "<b>%{hovertext}</b><br><br>state=Indiana<br>larceny_theft=%{x}<br>burglary=%{y}<br>population=%{marker.size}<extra></extra>",
         "hovertext": [
          "Indiana"
         ],
         "legendgroup": "Indiana",
         "marker": {
          "color": "#19d3f3",
          "size": [
           6253120
          ],
          "sizemode": "area",
          "sizeref": 82153.65305555555,
          "symbol": "circle"
         },
         "mode": "markers",
         "name": "Indiana",
         "orientation": "v",
         "showlegend": true,
         "type": "scatter",
         "x": [
          2412.0
         ],
         "xaxis": "x",
         "y": [
          697.6
         ],
         "yaxis": "y"
        },
        {
         "hovertemplate": "<b>%{hovertext}</b><br><br>state=Iowa<br>larceny_theft=%{x}<br>burglary=%{y}<br>population=%{marker.size}<extra></extra>",
         "hovertext": [
          "Iowa"
         ],
         "legendgroup": "Iowa",
         "marker": {
          "color": "#FF6692",
          "size": [
           2949450
          ],
          "sizemode": "area",
          "sizeref": 82153.65305555555,
          "symbol": "circle"
         },
         "mode": "markers",
         "name": "Iowa",
         "orientation": "v",
         "showlegend": true,
         "type": "scatter",
         "x": [
          2042.7
         ],
         "xaxis": "x",
         "y": [
          606.4
         ],
         "yaxis": "y"
        },
        {
         "hovertemplate": "<b>%{hovertext}</b><br><br>state=Kansas<br>larceny_theft=%{x}<br>burglary=%{y}<br>population=%{marker.size}<extra></extra>",
         "hovertext": [
          "Kansas"
         ],
         "legendgroup": "Kansas",
         "marker": {
          "color": "#B6E880",
          "size": [
           2741771
          ],
          "sizemode": "area",
          "sizeref": 82153.65305555555,
          "symbol": "circle"
         },
         "mode": "markers",
         "name": "Kansas",
         "orientation": "v",
         "showlegend": true,
         "type": "scatter",
         "x": [
          2758.1
         ],
         "xaxis": "x",
         "y": [
          689.2
         ],
         "yaxis": "y"
        },
        {
         "hovertemplate": "<b>%{hovertext}</b><br><br>state=Kentucky<br>larceny_theft=%{x}<br>burglary=%{y}<br>population=%{marker.size}<extra></extra>",
         "hovertext": [
          "Kentucky"
         ],
         "legendgroup": "Kentucky",
         "marker": {
          "color": "#FF97FF",
          "size": [
           4182293
          ],
          "sizemode": "area",
          "sizeref": 82153.65305555555,
          "symbol": "circle"
         },
         "mode": "markers",
         "name": "Kentucky",
         "orientation": "v",
         "showlegend": true,
         "type": "scatter",
         "x": [
          1685.8
         ],
         "xaxis": "x",
         "y": [
          634.0
         ],
         "yaxis": "y"
        },
        {
         "hovertemplate": "<b>%{hovertext}</b><br><br>state=Louisiana<br>larceny_theft=%{x}<br>burglary=%{y}<br>population=%{marker.size}<extra></extra>",
         "hovertext": [
          "Louisiana"
         ],
         "legendgroup": "Louisiana",
         "marker": {
          "color": "#FECB52",
          "size": [
           4497691
          ],
          "sizemode": "area",
          "sizeref": 82153.65305555555,
          "symbol": "circle"
         },
         "mode": "markers",
         "name": "Louisiana",
         "orientation": "v",
         "showlegend": true,
         "type": "scatter",
         "x": [
          2494.5
         ],
         "xaxis": "x",
         "y": [
          870.6
         ],
         "yaxis": "y"
        },
        {
         "hovertemplate": "<b>%{hovertext}</b><br><br>state=Maine<br>larceny_theft=%{x}<br>burglary=%{y}<br>population=%{marker.size}<extra></extra>",
         "hovertext": [
          "Maine"
         ],
         "legendgroup": "Maine",
         "marker": {
          "color": "#636efa",
          "size": [
           1311631
          ],
          "sizemode": "area",
          "sizeref": 82153.65305555555,
          "symbol": "circle"
         },
         "mode": "markers",
         "name": "Maine",
         "orientation": "v",
         "showlegend": true,
         "type": "scatter",
         "x": [
          1832.6
         ],
         "xaxis": "x",
         "y": [
          478.5
         ],
         "yaxis": "y"
        },
        {
         "hovertemplate": "<b>%{hovertext}</b><br><br>state=Maryland<br>larceny_theft=%{x}<br>burglary=%{y}<br>population=%{marker.size}<extra></extra>",
         "hovertext": [
          "Maryland"
         ],
         "legendgroup": "Maryland",
         "marker": {
          "color": "#EF553B",
          "size": [
           5582520
          ],
          "sizemode": "area",
          "sizeref": 82153.65305555555,
          "symbol": "circle"
         },
         "mode": "markers",
         "name": "Maryland",
         "orientation": "v",
         "showlegend": true,
         "type": "scatter",
         "x": [
          2294.3
         ],
         "xaxis": "x",
         "y": [
          641.4
         ],
         "yaxis": "y"
        },
        {
         "hovertemplate": "<b>%{hovertext}</b><br><br>state=Massachusetts<br>larceny_theft=%{x}<br>burglary=%{y}<br>population=%{marker.size}<extra></extra>",
         "hovertext": [
          "Massachusetts"
         ],
         "legendgroup": "Massachusetts",
         "marker": {
          "color": "#00cc96",
          "size": [
           6453031
          ],
          "sizemode": "area",
          "sizeref": 82153.65305555555,
          "symbol": "circle"
         },
         "mode": "markers",
         "name": "Massachusetts",
         "orientation": "v",
         "showlegend": true,
         "type": "scatter",
         "x": [
          1527.4
         ],
         "xaxis": "x",
         "y": [
          541.1
         ],
         "yaxis": "y"
        },
        {
         "hovertemplate": "<b>%{hovertext}</b><br><br>state=Michigan<br>larceny_theft=%{x}<br>burglary=%{y}<br>population=%{marker.size}<extra></extra>",
         "hovertext": [
          "Michigan"
         ],
         "legendgroup": "Michigan",
         "marker": {
          "color": "#ab63fa",
          "size": [
           10090554
          ],
          "sizemode": "area",
          "sizeref": 82153.65305555555,
          "symbol": "circle"
         },
         "mode": "markers",
         "name": "Michigan",
         "orientation": "v",
         "showlegend": true,
         "type": "scatter",
         "x": [
          1917.8
         ],
         "xaxis": "x",
         "y": [
          696.8
         ],
         "yaxis": "y"
        },
        {
         "hovertemplate": "<b>%{hovertext}</b><br><br>state=Minnesota<br>larceny_theft=%{x}<br>burglary=%{y}<br>population=%{marker.size}<extra></extra>",
         "hovertext": [
          "Minnesota"
         ],
         "legendgroup": "Minnesota",
         "marker": {
          "color": "#FFA15A",
          "size": [
           5106560
          ],
          "sizemode": "area",
          "sizeref": 82153.65305555555,
          "symbol": "circle"
         },
         "mode": "markers",
         "name": "Minnesota",
         "orientation": "v",
         "showlegend": true,
         "type": "scatter",
         "x": [
          2226.9
         ],
         "xaxis": "x",
         "y": [
          578.9
         ],
         "yaxis": "y"
        },
        {
         "hovertemplate": "<b>%{hovertext}</b><br><br>state=Mississippi<br>larceny_theft=%{x}<br>burglary=%{y}<br>population=%{marker.size}<extra></extra>",
         "hovertext": [
          "Mississippi"
         ],
         "legendgroup": "Mississippi",
         "marker": {
          "color": "#19d3f3",
          "size": [
           2900116
          ],
          "sizemode": "area",
          "sizeref": 82153.65305555555,
          "symbol": "circle"
         },
         "mode": "markers",
         "name": "Mississippi",
         "orientation": "v",
         "showlegend": true,
         "type": "scatter",
         "x": [
          2083.9
         ],
         "xaxis": "x",
         "y": [
          919.7
         ],
         "yaxis": "y"
        },
        {
         "hovertemplate": "<b>%{hovertext}</b><br><br>state=Missouri<br>larceny_theft=%{x}<br>burglary=%{y}<br>population=%{marker.size}<extra></extra>",
         "hovertext": [
          "Missouri"
         ],
         "legendgroup": "Missouri",
         "marker": {
          "color": "#FF6692",
          "size": [
           5806639
          ],
          "sizemode": "area",
          "sizeref": 82153.65305555555,
          "symbol": "circle"
         },
         "mode": "markers",
         "name": "Missouri",
         "orientation": "v",
         "showlegend": true,
         "type": "scatter",
         "x": [
          2746.2
         ],
         "xaxis": "x",
         "y": [
          738.3
         ],
         "yaxis": "y"
        },
        {
         "hovertemplate": "<b>%{hovertext}</b><br><br>state=Montana<br>larceny_theft=%{x}<br>burglary=%{y}<br>population=%{marker.size}<extra></extra>",
         "hovertext": [
          "Montana"
         ],
         "legendgroup": "Montana",
         "marker": {
          "color": "#B6E880",
          "size": [
           934801
          ],
          "sizemode": "area",
          "sizeref": 82153.65305555555,
          "symbol": "circle"
         },
         "mode": "markers",
         "name": "Montana",
         "orientation": "v",
         "showlegend": true,
         "type": "scatter",
         "x": [
          2543.0
         ],
         "xaxis": "x",
         "y": [
          389.2
         ],
         "yaxis": "y"
        },
        {
         "hovertemplate": "<b>%{hovertext}</b><br><br>state=Nebraska<br>larceny_theft=%{x}<br>burglary=%{y}<br>population=%{marker.size}<extra></extra>",
         "hovertext": [
          "Nebraska"
         ],
         "legendgroup": "Nebraska",
         "marker": {
          "color": "#FF97FF",
          "size": [
           1751721
          ],
          "sizemode": "area",
          "sizeref": 82153.65305555555,
          "symbol": "circle"
         },
         "mode": "markers",
         "name": "Nebraska",
         "orientation": "v",
         "showlegend": true,
         "type": "scatter",
         "x": [
          2574.3
         ],
         "xaxis": "x",
         "y": [
          532.4
         ],
         "yaxis": "y"
        },
        {
         "hovertemplate": "<b>%{hovertext}</b><br><br>state=Nevada<br>larceny_theft=%{x}<br>burglary=%{y}<br>population=%{marker.size}<extra></extra>",
         "hovertext": [
          "Nevada"
         ],
         "legendgroup": "Nevada",
         "marker": {
          "color": "#FECB52",
          "size": [
           2408804
          ],
          "sizemode": "area",
          "sizeref": 82153.65305555555,
          "symbol": "circle"
         },
         "mode": "markers",
         "name": "Nevada",
         "orientation": "v",
         "showlegend": true,
         "type": "scatter",
         "x": [
          2153.9
         ],
         "xaxis": "x",
         "y": [
          972.4
         ],
         "yaxis": "y"
        },
        {
         "hovertemplate": "<b>%{hovertext}</b><br><br>state=New Hampshire<br>larceny_theft=%{x}<br>burglary=%{y}<br>population=%{marker.size}<extra></extra>",
         "hovertext": [
          "New Hampshire"
         ],
         "legendgroup": "New Hampshire",
         "marker": {
          "color": "#636efa",
          "size": [
           1301415
          ],
          "sizemode": "area",
          "sizeref": 82153.65305555555,
          "symbol": "circle"
         },
         "mode": "markers",
         "name": "New Hampshire",
         "orientation": "v",
         "showlegend": true,
         "type": "scatter",
         "x": [
          1377.3
         ],
         "xaxis": "x",
         "y": [
          317.0
         ],
         "yaxis": "y"
        },
        {
         "hovertemplate": "<b>%{hovertext}</b><br><br>state=New Jersey<br>larceny_theft=%{x}<br>burglary=%{y}<br>population=%{marker.size}<extra></extra>",
         "hovertext": [
          "New Jersey"
         ],
         "legendgroup": "New Jersey",
         "marker": {
          "color": "#EF553B",
          "size": [
           8621837
          ],
          "sizemode": "area",
          "sizeref": 82153.65305555555,
          "symbol": "circle"
         },
         "mode": "markers",
         "name": "New Jersey",
         "orientation": "v",
         "showlegend": true,
         "type": "scatter",
         "x": [
          1568.4
         ],
         "xaxis": "x",
         "y": [
          447.1
         ],
         "yaxis": "y"
        },
        {
         "hovertemplate": "<b>%{hovertext}</b><br><br>state=New Mexico<br>larceny_theft=%{x}<br>burglary=%{y}<br>population=%{marker.size}<extra></extra>",
         "hovertext": [
          "New Mexico"
         ],
         "legendgroup": "New Mexico",
         "marker": {
          "color": "#00cc96",
          "size": [
           1916538
          ],
          "sizemode": "area",
          "sizeref": 82153.65305555555,
          "symbol": "circle"
         },
         "mode": "markers",
         "name": "New Mexico",
         "orientation": "v",
         "showlegend": true,
         "type": "scatter",
         "x": [
          2639.9
         ],
         "xaxis": "x",
         "y": [
          1093.9
         ],
         "yaxis": "y"
        },
        {
         "hovertemplate": "<b>%{hovertext}</b><br><br>state=New York<br>larceny_theft=%{x}<br>burglary=%{y}<br>population=%{marker.size}<extra></extra>",
         "hovertext": [
          "New York"
         ],
         "legendgroup": "New York",
         "marker": {
          "color": "#ab63fa",
          "size": [
           19330891
          ],
          "sizemode": "area",
          "sizeref": 82153.65305555555,
          "symbol": "circle"
         },
         "mode": "markers",
         "name": "New York",
         "orientation": "v",
         "showlegend": true,
         "type": "scatter",
         "x": [
          1569.6
         ],
         "xaxis": "x",
         "y": [
          353.3
         ],
         "yaxis": "y"
        },
        {
         "hovertemplate": "<b>%{hovertext}</b><br><br>state=North Carolina<br>larceny_theft=%{x}<br>burglary=%{y}<br>population=%{marker.size}<extra></extra>",
         "hovertext": [
          "North Carolina"
         ],
         "legendgroup": "North Carolina",
         "marker": {
          "color": "#FFA15A",
          "size": [
           8669452
          ],
          "sizemode": "area",
          "sizeref": 82153.65305555555,
          "symbol": "circle"
         },
         "mode": "markers",
         "name": "North Carolina",
         "orientation": "v",
         "showlegend": true,
         "type": "scatter",
         "x": [
          2546.2
         ],
         "xaxis": "x",
         "y": [
          1201.1
         ],
         "yaxis": "y"
        },
        {
         "hovertemplate": "<b>%{hovertext}</b><br><br>state=North Dakota<br>larceny_theft=%{x}<br>burglary=%{y}<br>population=%{marker.size}<extra></extra>",
         "hovertext": [
          "North Dakota"
         ],
         "legendgroup": "North Dakota",
         "marker": {
          "color": "#19d3f3",
          "size": [
           635365
          ],
          "sizemode": "area",
          "sizeref": 82153.65305555555,
          "symbol": "circle"
         },
         "mode": "markers",
         "name": "North Dakota",
         "orientation": "v",
         "showlegend": true,
         "type": "scatter",
         "x": [
          1500.3
         ],
         "xaxis": "x",
         "y": [
          311.9
         ],
         "yaxis": "y"
        },
        {
         "hovertemplate": "<b>%{hovertext}</b><br><br>state=Ohio<br>larceny_theft=%{x}<br>burglary=%{y}<br>population=%{marker.size}<extra></extra>",
         "hovertext": [
          "Ohio"
         ],
         "legendgroup": "Ohio",
         "marker": {
          "color": "#FF6692",
          "size": [
           11475262
          ],
          "sizemode": "area",
          "sizeref": 82153.65305555555,
          "symbol": "circle"
         },
         "mode": "markers",
         "name": "Ohio",
         "orientation": "v",
         "showlegend": true,
         "type": "scatter",
         "x": [
          2429.0
         ],
         "xaxis": "x",
         "y": [
          872.8
         ],
         "yaxis": "y"
        },
        {
         "hovertemplate": "<b>%{hovertext}</b><br><br>state=Oklahoma<br>larceny_theft=%{x}<br>burglary=%{y}<br>population=%{marker.size}<extra></extra>",
         "hovertext": [
          "Oklahoma"
         ],
         "legendgroup": "Oklahoma",
         "marker": {
          "color": "#B6E880",
          "size": [
           3532769
          ],
          "sizemode": "area",
          "sizeref": 82153.65305555555,
          "symbol": "circle"
         },
         "mode": "markers",
         "name": "Oklahoma",
         "orientation": "v",
         "showlegend": true,
         "type": "scatter",
         "x": [
          2644.2
         ],
         "xaxis": "x",
         "y": [
          1006.0
         ],
         "yaxis": "y"
        },
        {
         "hovertemplate": "<b>%{hovertext}</b><br><br>state=Oregon<br>larceny_theft=%{x}<br>burglary=%{y}<br>population=%{marker.size}<extra></extra>",
         "hovertext": [
          "Oregon"
         ],
         "legendgroup": "Oregon",
         "marker": {
          "color": "#FF97FF",
          "size": [
           3617869
          ],
          "sizemode": "area",
          "sizeref": 82153.65305555555,
          "symbol": "circle"
         },
         "mode": "markers",
         "name": "Oregon",
         "orientation": "v",
         "showlegend": true,
         "type": "scatter",
         "x": [
          3112.2
         ],
         "xaxis": "x",
         "y": [
          758.6
         ],
         "yaxis": "y"
        },
        {
         "hovertemplate": "<b>%{hovertext}</b><br><br>state=Pennsylvania<br>larceny_theft=%{x}<br>burglary=%{y}<br>population=%{marker.size}<extra></extra>",
         "hovertext": [
          "Pennsylvania"
         ],
         "legendgroup": "Pennsylvania",
         "marker": {
          "color": "#FECB52",
          "size": [
           12418161
          ],
          "sizemode": "area",
          "sizeref": 82153.65305555555,
          "symbol": "circle"
         },
         "mode": "markers",
         "name": "Pennsylvania",
         "orientation": "v",
         "showlegend": true,
         "type": "scatter",
         "x": [
          1729.1
         ],
         "xaxis": "x",
         "y": [
          451.6
         ],
         "yaxis": "y"
        },
        {
         "hovertemplate": "<b>%{hovertext}</b><br><br>state=Rhode Island<br>larceny_theft=%{x}<br>burglary=%{y}<br>population=%{marker.size}<extra></extra>",
         "hovertext": [
          "Rhode Island"
         ],
         "legendgroup": "Rhode Island",
         "marker": {
          "color": "#636efa",
          "size": [
           1064989
          ],
          "sizemode": "area",
          "sizeref": 82153.65305555555,
          "symbol": "circle"
         },
         "mode": "markers",
         "name": "Rhode Island",
         "orientation": "v",
         "showlegend": true,
         "type": "scatter",
         "x": [
          1816.0
         ],
         "xaxis": "x",
         "y": [
          494.2
         ],
         "yaxis": "y"
        },
        {
         "hovertemplate": "<b>%{hovertext}</b><br><br>state=South Carolina<br>larceny_theft=%{x}<br>burglary=%{y}<br>population=%{marker.size}<extra></extra>",
         "hovertext": [
          "South Carolina"
         ],
         "legendgroup": "South Carolina",
         "marker": {
          "color": "#EF553B",
          "size": [
           4256199
          ],
          "sizemode": "area",
          "sizeref": 82153.65305555555,
          "symbol": "circle"
         },
         "mode": "markers",
         "name": "South Carolina",
         "orientation": "v",
         "showlegend": true,
         "type": "scatter",
         "x": [
          2954.1
         ],
         "xaxis": "x",
         "y": [
          1000.9
         ],
         "yaxis": "y"
        },
        {
         "hovertemplate": "<b>%{hovertext}</b><br><br>state=South Dakota<br>larceny_theft=%{x}<br>burglary=%{y}<br>population=%{marker.size}<extra></extra>",
         "hovertext": [
          "South Dakota"
         ],
         "legendgroup": "South Dakota",
         "marker": {
          "color": "#00cc96",
          "size": [
           780084
          ],
          "sizemode": "area",
          "sizeref": 82153.65305555555,
          "symbol": "circle"
         },
         "mode": "markers",
         "name": "South Dakota",
         "orientation": "v",
         "showlegend": true,
         "type": "scatter",
         "x": [
          1343.7
         ],
         "xaxis": "x",
         "y": [
          324.4
         ],
         "yaxis": "y"
        },
        {
         "hovertemplate": "<b>%{hovertext}</b><br><br>state=Tennessee<br>larceny_theft=%{x}<br>burglary=%{y}<br>population=%{marker.size}<extra></extra>",
         "hovertext": [
          "Tennessee"
         ],
         "legendgroup": "Tennessee",
         "marker": {
          "color": "#ab63fa",
          "size": [
           5995748
          ],
          "sizemode": "area",
          "sizeref": 82153.65305555555,
          "symbol": "circle"
         },
         "mode": "markers",
         "name": "Tennessee",
         "orientation": "v",
         "showlegend": true,
         "type": "scatter",
         "x": [
          2828.1
         ],
         "xaxis": "x",
         "y": [
          1026.9
         ],
         "yaxis": "y"
        },
        {
         "hovertemplate": "<b>%{hovertext}</b><br><br>state=Texas<br>larceny_theft=%{x}<br>burglary=%{y}<br>population=%{marker.size}<extra></extra>",
         "hovertext": [
          "Texas"
         ],
         "legendgroup": "Texas",
         "marker": {
          "color": "#FFA15A",
          "size": [
           22801920
          ],
          "sizemode": "area",
          "sizeref": 82153.65305555555,
          "symbol": "circle"
         },
         "mode": "markers",
         "name": "Texas",
         "orientation": "v",
         "showlegend": true,
         "type": "scatter",
         "x": [
          2961.7
         ],
         "xaxis": "x",
         "y": [
          961.6
         ],
         "yaxis": "y"
        },
        {
         "hovertemplate": "<b>%{hovertext}</b><br><br>state=Utah<br>larceny_theft=%{x}<br>burglary=%{y}<br>population=%{marker.size}<extra></extra>",
         "hovertext": [
          "Utah"
         ],
         "legendgroup": "Utah",
         "marker": {
          "color": "#19d3f3",
          "size": [
           2499637
          ],
          "sizemode": "area",
          "sizeref": 82153.65305555555,
          "symbol": "circle"
         },
         "mode": "markers",
         "name": "Utah",
         "orientation": "v",
         "showlegend": true,
         "type": "scatter",
         "x": [
          2918.8
         ],
         "xaxis": "x",
         "y": [
          606.2
         ],
         "yaxis": "y"
        },
        {
         "hovertemplate": "<b>%{hovertext}</b><br><br>state=Vermont<br>larceny_theft=%{x}<br>burglary=%{y}<br>population=%{marker.size}<extra></extra>",
         "hovertext": [
          "Vermont"
         ],
         "legendgroup": "Vermont",
         "marker": {
          "color": "#FF6692",
          "size": [
           618814
          ],
          "sizemode": "area",
          "sizeref": 82153.65305555555,
          "symbol": "circle"
         },
         "mode": "markers",
         "name": "Vermont",
         "orientation": "v",
         "showlegend": true,
         "type": "scatter",
         "x": [
          1686.1
         ],
         "xaxis": "x",
         "y": [
          491.8
         ],
         "yaxis": "y"
        },
        {
         "hovertemplate": "<b>%{hovertext}</b><br><br>state=Virginia<br>larceny_theft=%{x}<br>burglary=%{y}<br>population=%{marker.size}<extra></extra>",
         "hovertext": [
          "Virginia"
         ],
         "legendgroup": "Virginia",
         "marker": {
          "color": "#B6E880",
          "size": [
           7563887
          ],
          "sizemode": "area",
          "sizeref": 82153.65305555555,
          "symbol": "circle"
         },
         "mode": "markers",
         "name": "Virginia",
         "orientation": "v",
         "showlegend": true,
         "type": "scatter",
         "x": [
          2035.0
         ],
         "xaxis": "x",
         "y": [
          392.1
         ],
         "yaxis": "y"
        },
        {
         "hovertemplate": "<b>%{hovertext}</b><br><br>state=Washington<br>larceny_theft=%{x}<br>burglary=%{y}<br>population=%{marker.size}<extra></extra>",
         "hovertext": [
          "Washington"
         ],
         "legendgroup": "Washington",
         "marker": {
          "color": "#FF97FF",
          "size": [
           6261282
          ],
          "sizemode": "area",
          "sizeref": 82153.65305555555,
          "symbol": "circle"
         },
         "mode": "markers",
         "name": "Washington",
         "orientation": "v",
         "showlegend": true,
         "type": "scatter",
         "x": [
          3149.5
         ],
         "xaxis": "x",
         "y": [
          959.7
         ],
         "yaxis": "y"
        },
        {
         "hovertemplate": "<b>%{hovertext}</b><br><br>state=West Virginia<br>larceny_theft=%{x}<br>burglary=%{y}<br>population=%{marker.size}<extra></extra>",
         "hovertext": [
          "West Virginia"
         ],
         "legendgroup": "West Virginia",
         "marker": {
          "color": "#FECB52",
          "size": [
           1803920
          ],
          "sizemode": "area",
          "sizeref": 82153.65305555555,
          "symbol": "circle"
         },
         "mode": "markers",
         "name": "West Virginia",
         "orientation": "v",
         "showlegend": true,
         "type": "scatter",
         "x": [
          1794.0
         ],
         "xaxis": "x",
         "y": [
          621.2
         ],
         "yaxis": "y"
        },
        {
         "hovertemplate": "<b>%{hovertext}</b><br><br>state=Wisconsin<br>larceny_theft=%{x}<br>burglary=%{y}<br>population=%{marker.size}<extra></extra>",
         "hovertext": [
          "Wisconsin"
         ],
         "legendgroup": "Wisconsin",
         "marker": {
          "color": "#636efa",
          "size": [
           5541443
          ],
          "sizemode": "area",
          "sizeref": 82153.65305555555,
          "symbol": "circle"
         },
         "mode": "markers",
         "name": "Wisconsin",
         "orientation": "v",
         "showlegend": true,
         "type": "scatter",
         "x": [
          1992.8
         ],
         "xaxis": "x",
         "y": [
          440.8
         ],
         "yaxis": "y"
        },
        {
         "hovertemplate": "<b>%{hovertext}</b><br><br>state=Wyoming<br>larceny_theft=%{x}<br>burglary=%{y}<br>population=%{marker.size}<extra></extra>",
         "hovertext": [
          "Wyoming"
         ],
         "legendgroup": "Wyoming",
         "marker": {
          "color": "#EF553B",
          "size": [
           506242
          ],
          "sizemode": "area",
          "sizeref": 82153.65305555555,
          "symbol": "circle"
         },
         "mode": "markers",
         "name": "Wyoming",
         "orientation": "v",
         "showlegend": true,
         "type": "scatter",
         "x": [
          2533.9
         ],
         "xaxis": "x",
         "y": [
          476.3
         ],
         "yaxis": "y"
        }
       ],
       "layout": {
        "legend": {
         "itemsizing": "constant",
         "title": {
          "text": "state"
         },
         "tracegroupgap": 0
        },
        "template": {
         "data": {
          "bar": [
           {
            "error_x": {
             "color": "#2a3f5f"
            },
            "error_y": {
             "color": "#2a3f5f"
            },
            "marker": {
             "line": {
              "color": "#E5ECF6",
              "width": 0.5
             },
             "pattern": {
              "fillmode": "overlay",
              "size": 10,
              "solidity": 0.2
             }
            },
            "type": "bar"
           }
          ],
          "barpolar": [
           {
            "marker": {
             "line": {
              "color": "#E5ECF6",
              "width": 0.5
             },
             "pattern": {
              "fillmode": "overlay",
              "size": 10,
              "solidity": 0.2
             }
            },
            "type": "barpolar"
           }
          ],
          "carpet": [
           {
            "aaxis": {
             "endlinecolor": "#2a3f5f",
             "gridcolor": "white",
             "linecolor": "white",
             "minorgridcolor": "white",
             "startlinecolor": "#2a3f5f"
            },
            "baxis": {
             "endlinecolor": "#2a3f5f",
             "gridcolor": "white",
             "linecolor": "white",
             "minorgridcolor": "white",
             "startlinecolor": "#2a3f5f"
            },
            "type": "carpet"
           }
          ],
          "choropleth": [
           {
            "colorbar": {
             "outlinewidth": 0,
             "ticks": ""
            },
            "type": "choropleth"
           }
          ],
          "contour": [
           {
            "colorbar": {
             "outlinewidth": 0,
             "ticks": ""
            },
            "colorscale": [
             [
              0.0,
              "#0d0887"
             ],
             [
              0.1111111111111111,
              "#46039f"
             ],
             [
              0.2222222222222222,
              "#7201a8"
             ],
             [
              0.3333333333333333,
              "#9c179e"
             ],
             [
              0.4444444444444444,
              "#bd3786"
             ],
             [
              0.5555555555555556,
              "#d8576b"
             ],
             [
              0.6666666666666666,
              "#ed7953"
             ],
             [
              0.7777777777777778,
              "#fb9f3a"
             ],
             [
              0.8888888888888888,
              "#fdca26"
             ],
             [
              1.0,
              "#f0f921"
             ]
            ],
            "type": "contour"
           }
          ],
          "contourcarpet": [
           {
            "colorbar": {
             "outlinewidth": 0,
             "ticks": ""
            },
            "type": "contourcarpet"
           }
          ],
          "heatmap": [
           {
            "colorbar": {
             "outlinewidth": 0,
             "ticks": ""
            },
            "colorscale": [
             [
              0.0,
              "#0d0887"
             ],
             [
              0.1111111111111111,
              "#46039f"
             ],
             [
              0.2222222222222222,
              "#7201a8"
             ],
             [
              0.3333333333333333,
              "#9c179e"
             ],
             [
              0.4444444444444444,
              "#bd3786"
             ],
             [
              0.5555555555555556,
              "#d8576b"
             ],
             [
              0.6666666666666666,
              "#ed7953"
             ],
             [
              0.7777777777777778,
              "#fb9f3a"
             ],
             [
              0.8888888888888888,
              "#fdca26"
             ],
             [
              1.0,
              "#f0f921"
             ]
            ],
            "type": "heatmap"
           }
          ],
          "heatmapgl": [
           {
            "colorbar": {
             "outlinewidth": 0,
             "ticks": ""
            },
            "colorscale": [
             [
              0.0,
              "#0d0887"
             ],
             [
              0.1111111111111111,
              "#46039f"
             ],
             [
              0.2222222222222222,
              "#7201a8"
             ],
             [
              0.3333333333333333,
              "#9c179e"
             ],
             [
              0.4444444444444444,
              "#bd3786"
             ],
             [
              0.5555555555555556,
              "#d8576b"
             ],
             [
              0.6666666666666666,
              "#ed7953"
             ],
             [
              0.7777777777777778,
              "#fb9f3a"
             ],
             [
              0.8888888888888888,
              "#fdca26"
             ],
             [
              1.0,
              "#f0f921"
             ]
            ],
            "type": "heatmapgl"
           }
          ],
          "histogram": [
           {
            "marker": {
             "pattern": {
              "fillmode": "overlay",
              "size": 10,
              "solidity": 0.2
             }
            },
            "type": "histogram"
           }
          ],
          "histogram2d": [
           {
            "colorbar": {
             "outlinewidth": 0,
             "ticks": ""
            },
            "colorscale": [
             [
              0.0,
              "#0d0887"
             ],
             [
              0.1111111111111111,
              "#46039f"
             ],
             [
              0.2222222222222222,
              "#7201a8"
             ],
             [
              0.3333333333333333,
              "#9c179e"
             ],
             [
              0.4444444444444444,
              "#bd3786"
             ],
             [
              0.5555555555555556,
              "#d8576b"
             ],
             [
              0.6666666666666666,
              "#ed7953"
             ],
             [
              0.7777777777777778,
              "#fb9f3a"
             ],
             [
              0.8888888888888888,
              "#fdca26"
             ],
             [
              1.0,
              "#f0f921"
             ]
            ],
            "type": "histogram2d"
           }
          ],
          "histogram2dcontour": [
           {
            "colorbar": {
             "outlinewidth": 0,
             "ticks": ""
            },
            "colorscale": [
             [
              0.0,
              "#0d0887"
             ],
             [
              0.1111111111111111,
              "#46039f"
             ],
             [
              0.2222222222222222,
              "#7201a8"
             ],
             [
              0.3333333333333333,
              "#9c179e"
             ],
             [
              0.4444444444444444,
              "#bd3786"
             ],
             [
              0.5555555555555556,
              "#d8576b"
             ],
             [
              0.6666666666666666,
              "#ed7953"
             ],
             [
              0.7777777777777778,
              "#fb9f3a"
             ],
             [
              0.8888888888888888,
              "#fdca26"
             ],
             [
              1.0,
              "#f0f921"
             ]
            ],
            "type": "histogram2dcontour"
           }
          ],
          "mesh3d": [
           {
            "colorbar": {
             "outlinewidth": 0,
             "ticks": ""
            },
            "type": "mesh3d"
           }
          ],
          "parcoords": [
           {
            "line": {
             "colorbar": {
              "outlinewidth": 0,
              "ticks": ""
             }
            },
            "type": "parcoords"
           }
          ],
          "pie": [
           {
            "automargin": true,
            "type": "pie"
           }
          ],
          "scatter": [
           {
            "marker": {
             "colorbar": {
              "outlinewidth": 0,
              "ticks": ""
             }
            },
            "type": "scatter"
           }
          ],
          "scatter3d": [
           {
            "line": {
             "colorbar": {
              "outlinewidth": 0,
              "ticks": ""
             }
            },
            "marker": {
             "colorbar": {
              "outlinewidth": 0,
              "ticks": ""
             }
            },
            "type": "scatter3d"
           }
          ],
          "scattercarpet": [
           {
            "marker": {
             "colorbar": {
              "outlinewidth": 0,
              "ticks": ""
             }
            },
            "type": "scattercarpet"
           }
          ],
          "scattergeo": [
           {
            "marker": {
             "colorbar": {
              "outlinewidth": 0,
              "ticks": ""
             }
            },
            "type": "scattergeo"
           }
          ],
          "scattergl": [
           {
            "marker": {
             "colorbar": {
              "outlinewidth": 0,
              "ticks": ""
             }
            },
            "type": "scattergl"
           }
          ],
          "scattermapbox": [
           {
            "marker": {
             "colorbar": {
              "outlinewidth": 0,
              "ticks": ""
             }
            },
            "type": "scattermapbox"
           }
          ],
          "scatterpolar": [
           {
            "marker": {
             "colorbar": {
              "outlinewidth": 0,
              "ticks": ""
             }
            },
            "type": "scatterpolar"
           }
          ],
          "scatterpolargl": [
           {
            "marker": {
             "colorbar": {
              "outlinewidth": 0,
              "ticks": ""
             }
            },
            "type": "scatterpolargl"
           }
          ],
          "scatterternary": [
           {
            "marker": {
             "colorbar": {
              "outlinewidth": 0,
              "ticks": ""
             }
            },
            "type": "scatterternary"
           }
          ],
          "surface": [
           {
            "colorbar": {
             "outlinewidth": 0,
             "ticks": ""
            },
            "colorscale": [
             [
              0.0,
              "#0d0887"
             ],
             [
              0.1111111111111111,
              "#46039f"
             ],
             [
              0.2222222222222222,
              "#7201a8"
             ],
             [
              0.3333333333333333,
              "#9c179e"
             ],
             [
              0.4444444444444444,
              "#bd3786"
             ],
             [
              0.5555555555555556,
              "#d8576b"
             ],
             [
              0.6666666666666666,
              "#ed7953"
             ],
             [
              0.7777777777777778,
              "#fb9f3a"
             ],
             [
              0.8888888888888888,
              "#fdca26"
             ],
             [
              1.0,
              "#f0f921"
             ]
            ],
            "type": "surface"
           }
          ],
          "table": [
           {
            "cells": {
             "fill": {
              "color": "#EBF0F8"
             },
             "line": {
              "color": "white"
             }
            },
            "header": {
             "fill": {
              "color": "#C8D4E3"
             },
             "line": {
              "color": "white"
             }
            },
            "type": "table"
           }
          ]
         },
         "layout": {
          "annotationdefaults": {
           "arrowcolor": "#2a3f5f",
           "arrowhead": 0,
           "arrowwidth": 1
          },
          "autotypenumbers": "strict",
          "coloraxis": {
           "colorbar": {
            "outlinewidth": 0,
            "ticks": ""
           }
          },
          "colorscale": {
           "diverging": [
            [
             0,
             "#8e0152"
            ],
            [
             0.1,
             "#c51b7d"
            ],
            [
             0.2,
             "#de77ae"
            ],
            [
             0.3,
             "#f1b6da"
            ],
            [
             0.4,
             "#fde0ef"
            ],
            [
             0.5,
             "#f7f7f7"
            ],
            [
             0.6,
             "#e6f5d0"
            ],
            [
             0.7,
             "#b8e186"
            ],
            [
             0.8,
             "#7fbc41"
            ],
            [
             0.9,
             "#4d9221"
            ],
            [
             1,
             "#276419"
            ]
           ],
           "sequential": [
            [
             0.0,
             "#0d0887"
            ],
            [
             0.1111111111111111,
             "#46039f"
            ],
            [
             0.2222222222222222,
             "#7201a8"
            ],
            [
             0.3333333333333333,
             "#9c179e"
            ],
            [
             0.4444444444444444,
             "#bd3786"
            ],
            [
             0.5555555555555556,
             "#d8576b"
            ],
            [
             0.6666666666666666,
             "#ed7953"
            ],
            [
             0.7777777777777778,
             "#fb9f3a"
            ],
            [
             0.8888888888888888,
             "#fdca26"
            ],
            [
             1.0,
             "#f0f921"
            ]
           ],
           "sequentialminus": [
            [
             0.0,
             "#0d0887"
            ],
            [
             0.1111111111111111,
             "#46039f"
            ],
            [
             0.2222222222222222,
             "#7201a8"
            ],
            [
             0.3333333333333333,
             "#9c179e"
            ],
            [
             0.4444444444444444,
             "#bd3786"
            ],
            [
             0.5555555555555556,
             "#d8576b"
            ],
            [
             0.6666666666666666,
             "#ed7953"
            ],
            [
             0.7777777777777778,
             "#fb9f3a"
            ],
            [
             0.8888888888888888,
             "#fdca26"
            ],
            [
             1.0,
             "#f0f921"
            ]
           ]
          },
          "colorway": [
           "#636efa",
           "#EF553B",
           "#00cc96",
           "#ab63fa",
           "#FFA15A",
           "#19d3f3",
           "#FF6692",
           "#B6E880",
           "#FF97FF",
           "#FECB52"
          ],
          "font": {
           "color": "#2a3f5f"
          },
          "geo": {
           "bgcolor": "white",
           "lakecolor": "white",
           "landcolor": "#E5ECF6",
           "showlakes": true,
           "showland": true,
           "subunitcolor": "white"
          },
          "hoverlabel": {
           "align": "left"
          },
          "hovermode": "closest",
          "mapbox": {
           "style": "light"
          },
          "paper_bgcolor": "white",
          "plot_bgcolor": "#E5ECF6",
          "polar": {
           "angularaxis": {
            "gridcolor": "white",
            "linecolor": "white",
            "ticks": ""
           },
           "bgcolor": "#E5ECF6",
           "radialaxis": {
            "gridcolor": "white",
            "linecolor": "white",
            "ticks": ""
           }
          },
          "scene": {
           "xaxis": {
            "backgroundcolor": "#E5ECF6",
            "gridcolor": "white",
            "gridwidth": 2,
            "linecolor": "white",
            "showbackground": true,
            "ticks": "",
            "zerolinecolor": "white"
           },
           "yaxis": {
            "backgroundcolor": "#E5ECF6",
            "gridcolor": "white",
            "gridwidth": 2,
            "linecolor": "white",
            "showbackground": true,
            "ticks": "",
            "zerolinecolor": "white"
           },
           "zaxis": {
            "backgroundcolor": "#E5ECF6",
            "gridcolor": "white",
            "gridwidth": 2,
            "linecolor": "white",
            "showbackground": true,
            "ticks": "",
            "zerolinecolor": "white"
           }
          },
          "shapedefaults": {
           "line": {
            "color": "#2a3f5f"
           }
          },
          "ternary": {
           "aaxis": {
            "gridcolor": "white",
            "linecolor": "white",
            "ticks": ""
           },
           "baxis": {
            "gridcolor": "white",
            "linecolor": "white",
            "ticks": ""
           },
           "bgcolor": "#E5ECF6",
           "caxis": {
            "gridcolor": "white",
            "linecolor": "white",
            "ticks": ""
           }
          },
          "title": {
           "x": 0.05
          },
          "xaxis": {
           "automargin": true,
           "gridcolor": "white",
           "linecolor": "white",
           "ticks": "",
           "title": {
            "standoff": 15
           },
           "zerolinecolor": "white",
           "zerolinewidth": 2
          },
          "yaxis": {
           "automargin": true,
           "gridcolor": "white",
           "linecolor": "white",
           "ticks": "",
           "title": {
            "standoff": 15
           },
           "zerolinecolor": "white",
           "zerolinewidth": 2
          }
         }
        },
        "title": {
         "text": "Python - Bubble Chart"
        },
        "xaxis": {
         "anchor": "y",
         "domain": [
          0.0,
          1.0
         ],
         "title": {
          "text": "larceny_theft"
         },
         "type": "log"
        },
        "yaxis": {
         "anchor": "x",
         "domain": [
          0.0,
          1.0
         ],
         "title": {
          "text": "burglary"
         }
        }
       }
      },
      "text/html": "<div>                            <div id=\"a58d1f36-eb3b-440f-acfd-67ed2ba53141\" class=\"plotly-graph-div\" style=\"height:525px; width:100%;\"></div>            <script type=\"text/javascript\">                require([\"plotly\"], function(Plotly) {                    window.PLOTLYENV=window.PLOTLYENV || {};                                    if (document.getElementById(\"a58d1f36-eb3b-440f-acfd-67ed2ba53141\")) {                    Plotly.newPlot(                        \"a58d1f36-eb3b-440f-acfd-67ed2ba53141\",                        [{\"hovertemplate\":\"<b>%{hovertext}</b><br><br>state=United States<br>larceny_theft=%{x}<br>burglary=%{y}<br>population=%{marker.size}<extra></extra>\",\"hovertext\":[\"United States\"],\"legendgroup\":\"United States\",\"marker\":{\"color\":\"#636efa\",\"size\":[295753151],\"sizemode\":\"area\",\"sizeref\":82153.65305555555,\"symbol\":\"circle\"},\"mode\":\"markers\",\"name\":\"United States\",\"orientation\":\"v\",\"showlegend\":true,\"type\":\"scatter\",\"x\":[2286.3],\"xaxis\":\"x\",\"y\":[726.7],\"yaxis\":\"y\"},{\"hovertemplate\":\"<b>%{hovertext}</b><br><br>state=Alabama<br>larceny_theft=%{x}<br>burglary=%{y}<br>population=%{marker.size}<extra></extra>\",\"hovertext\":[\"Alabama\"],\"legendgroup\":\"Alabama\",\"marker\":{\"color\":\"#EF553B\",\"size\":[4545049],\"sizemode\":\"area\",\"sizeref\":82153.65305555555,\"symbol\":\"circle\"},\"mode\":\"markers\",\"name\":\"Alabama\",\"orientation\":\"v\",\"showlegend\":true,\"type\":\"scatter\",\"x\":[2650.0],\"xaxis\":\"x\",\"y\":[953.8],\"yaxis\":\"y\"},{\"hovertemplate\":\"<b>%{hovertext}</b><br><br>state=Alaska<br>larceny_theft=%{x}<br>burglary=%{y}<br>population=%{marker.size}<extra></extra>\",\"hovertext\":[\"Alaska\"],\"legendgroup\":\"Alaska\",\"marker\":{\"color\":\"#00cc96\",\"size\":[669488],\"sizemode\":\"area\",\"sizeref\":82153.65305555555,\"symbol\":\"circle\"},\"mode\":\"markers\",\"name\":\"Alaska\",\"orientation\":\"v\",\"showlegend\":true,\"type\":\"scatter\",\"x\":[2599.1],\"xaxis\":\"x\",\"y\":[622.5],\"yaxis\":\"y\"},{\"hovertemplate\":\"<b>%{hovertext}</b><br><br>state=Arizona<br>larceny_theft=%{x}<br>burglary=%{y}<br>population=%{marker.size}<extra></extra>\",\"hovertext\":[\"Arizona\"],\"legendgroup\":\"Arizona\",\"marker\":{\"color\":\"#ab63fa\",\"size\":[5974834],\"sizemode\":\"area\",\"sizeref\":82153.65305555555,\"symbol\":\"circle\"},\"mode\":\"markers\",\"name\":\"Arizona\",\"orientation\":\"v\",\"showlegend\":true,\"type\":\"scatter\",\"x\":[2965.2],\"xaxis\":\"x\",\"y\":[948.4],\"yaxis\":\"y\"},{\"hovertemplate\":\"<b>%{hovertext}</b><br><br>state=Arkansas<br>larceny_theft=%{x}<br>burglary=%{y}<br>population=%{marker.size}<extra></extra>\",\"hovertext\":[\"Arkansas\"],\"legendgroup\":\"Arkansas\",\"marker\":{\"color\":\"#FFA15A\",\"size\":[2776221],\"sizemode\":\"area\",\"sizeref\":82153.65305555555,\"symbol\":\"circle\"},\"mode\":\"markers\",\"name\":\"Arkansas\",\"orientation\":\"v\",\"showlegend\":true,\"type\":\"scatter\",\"x\":[2711.2],\"xaxis\":\"x\",\"y\":[1084.6],\"yaxis\":\"y\"},{\"hovertemplate\":\"<b>%{hovertext}</b><br><br>state=California<br>larceny_theft=%{x}<br>burglary=%{y}<br>population=%{marker.size}<extra></extra>\",\"hovertext\":[\"California\"],\"legendgroup\":\"California\",\"marker\":{\"color\":\"#19d3f3\",\"size\":[35795255],\"sizemode\":\"area\",\"sizeref\":82153.65305555555,\"symbol\":\"circle\"},\"mode\":\"markers\",\"name\":\"California\",\"orientation\":\"v\",\"showlegend\":true,\"type\":\"scatter\",\"x\":[1916.5],\"xaxis\":\"x\",\"y\":[693.3],\"yaxis\":\"y\"},{\"hovertemplate\":\"<b>%{hovertext}</b><br><br>state=Colorado<br>larceny_theft=%{x}<br>burglary=%{y}<br>population=%{marker.size}<extra></extra>\",\"hovertext\":[\"Colorado\"],\"legendgroup\":\"Colorado\",\"marker\":{\"color\":\"#FF6692\",\"size\":[4660780],\"sizemode\":\"area\",\"sizeref\":82153.65305555555,\"symbol\":\"circle\"},\"mode\":\"markers\",\"name\":\"Colorado\",\"orientation\":\"v\",\"showlegend\":true,\"type\":\"scatter\",\"x\":[2735.2],\"xaxis\":\"x\",\"y\":[744.8],\"yaxis\":\"y\"},{\"hovertemplate\":\"<b>%{hovertext}</b><br><br>state=Connecticut<br>larceny_theft=%{x}<br>burglary=%{y}<br>population=%{marker.size}<extra></extra>\",\"hovertext\":[\"Connecticut\"],\"legendgroup\":\"Connecticut\",\"marker\":{\"color\":\"#B6E880\",\"size\":[3477416],\"sizemode\":\"area\",\"sizeref\":82153.65305555555,\"symbol\":\"circle\"},\"mode\":\"markers\",\"name\":\"Connecticut\",\"orientation\":\"v\",\"showlegend\":true,\"type\":\"scatter\",\"x\":[1824.1],\"xaxis\":\"x\",\"y\":[437.1],\"yaxis\":\"y\"},{\"hovertemplate\":\"<b>%{hovertext}</b><br><br>state=Delaware<br>larceny_theft=%{x}<br>burglary=%{y}<br>population=%{marker.size}<extra></extra>\",\"hovertext\":[\"Delaware\"],\"legendgroup\":\"Delaware\",\"marker\":{\"color\":\"#FF97FF\",\"size\":[839906],\"sizemode\":\"area\",\"sizeref\":82153.65305555555,\"symbol\":\"circle\"},\"mode\":\"markers\",\"name\":\"Delaware\",\"orientation\":\"v\",\"showlegend\":true,\"type\":\"scatter\",\"x\":[2144.0],\"xaxis\":\"x\",\"y\":[688.9],\"yaxis\":\"y\"},{\"hovertemplate\":\"<b>%{hovertext}</b><br><br>state=District of Columbia<br>larceny_theft=%{x}<br>burglary=%{y}<br>population=%{marker.size}<extra></extra>\",\"hovertext\":[\"District of Columbia\"],\"legendgroup\":\"District of Columbia\",\"marker\":{\"color\":\"#FECB52\",\"size\":[582049],\"sizemode\":\"area\",\"sizeref\":82153.65305555555,\"symbol\":\"circle\"},\"mode\":\"markers\",\"name\":\"District of Columbia\",\"orientation\":\"v\",\"showlegend\":true,\"type\":\"scatter\",\"x\":[2694.9],\"xaxis\":\"x\",\"y\":[649.7],\"yaxis\":\"y\"},{\"hovertemplate\":\"<b>%{hovertext}</b><br><br>state=Florida<br>larceny_theft=%{x}<br>burglary=%{y}<br>population=%{marker.size}<extra></extra>\",\"hovertext\":[\"Florida\"],\"legendgroup\":\"Florida\",\"marker\":{\"color\":\"#636efa\",\"size\":[17783868],\"sizemode\":\"area\",\"sizeref\":82153.65305555555,\"symbol\":\"circle\"},\"mode\":\"markers\",\"name\":\"Florida\",\"orientation\":\"v\",\"showlegend\":true,\"type\":\"scatter\",\"x\":[2658.3],\"xaxis\":\"x\",\"y\":[926.3],\"yaxis\":\"y\"},{\"hovertemplate\":\"<b>%{hovertext}</b><br><br>state=Georgia<br>larceny_theft=%{x}<br>burglary=%{y}<br>population=%{marker.size}<extra></extra>\",\"hovertext\":[\"Georgia\"],\"legendgroup\":\"Georgia\",\"marker\":{\"color\":\"#EF553B\",\"size\":[9097428],\"sizemode\":\"area\",\"sizeref\":82153.65305555555,\"symbol\":\"circle\"},\"mode\":\"markers\",\"name\":\"Georgia\",\"orientation\":\"v\",\"showlegend\":true,\"type\":\"scatter\",\"x\":[2751.1],\"xaxis\":\"x\",\"y\":[931.0],\"yaxis\":\"y\"},{\"hovertemplate\":\"<b>%{hovertext}</b><br><br>state=Hawaii<br>larceny_theft=%{x}<br>burglary=%{y}<br>population=%{marker.size}<extra></extra>\",\"hovertext\":[\"Hawaii\"],\"legendgroup\":\"Hawaii\",\"marker\":{\"color\":\"#00cc96\",\"size\":[1266117],\"sizemode\":\"area\",\"sizeref\":82153.65305555555,\"symbol\":\"circle\"},\"mode\":\"markers\",\"name\":\"Hawaii\",\"orientation\":\"v\",\"showlegend\":true,\"type\":\"scatter\",\"x\":[3308.4],\"xaxis\":\"x\",\"y\":[767.9],\"yaxis\":\"y\"},{\"hovertemplate\":\"<b>%{hovertext}</b><br><br>state=Idaho<br>larceny_theft=%{x}<br>burglary=%{y}<br>population=%{marker.size}<extra></extra>\",\"hovertext\":[\"Idaho\"],\"legendgroup\":\"Idaho\",\"marker\":{\"color\":\"#ab63fa\",\"size\":[1425862],\"sizemode\":\"area\",\"sizeref\":82153.65305555555,\"symbol\":\"circle\"},\"mode\":\"markers\",\"name\":\"Idaho\",\"orientation\":\"v\",\"showlegend\":true,\"type\":\"scatter\",\"x\":[1931.7],\"xaxis\":\"x\",\"y\":[564.4],\"yaxis\":\"y\"},{\"hovertemplate\":\"<b>%{hovertext}</b><br><br>state=Illinois<br>larceny_theft=%{x}<br>burglary=%{y}<br>population=%{marker.size}<extra></extra>\",\"hovertext\":[\"Illinois\"],\"legendgroup\":\"Illinois\",\"marker\":{\"color\":\"#FFA15A\",\"size\":[12674452],\"sizemode\":\"area\",\"sizeref\":82153.65305555555,\"symbol\":\"circle\"},\"mode\":\"markers\",\"name\":\"Illinois\",\"orientation\":\"v\",\"showlegend\":true,\"type\":\"scatter\",\"x\":[2164.8],\"xaxis\":\"x\",\"y\":[606.9],\"yaxis\":\"y\"},{\"hovertemplate\":\"<b>%{hovertext}</b><br><br>state=Indiana<br>larceny_theft=%{x}<br>burglary=%{y}<br>population=%{marker.size}<extra></extra>\",\"hovertext\":[\"Indiana\"],\"legendgroup\":\"Indiana\",\"marker\":{\"color\":\"#19d3f3\",\"size\":[6253120],\"sizemode\":\"area\",\"sizeref\":82153.65305555555,\"symbol\":\"circle\"},\"mode\":\"markers\",\"name\":\"Indiana\",\"orientation\":\"v\",\"showlegend\":true,\"type\":\"scatter\",\"x\":[2412.0],\"xaxis\":\"x\",\"y\":[697.6],\"yaxis\":\"y\"},{\"hovertemplate\":\"<b>%{hovertext}</b><br><br>state=Iowa<br>larceny_theft=%{x}<br>burglary=%{y}<br>population=%{marker.size}<extra></extra>\",\"hovertext\":[\"Iowa\"],\"legendgroup\":\"Iowa\",\"marker\":{\"color\":\"#FF6692\",\"size\":[2949450],\"sizemode\":\"area\",\"sizeref\":82153.65305555555,\"symbol\":\"circle\"},\"mode\":\"markers\",\"name\":\"Iowa\",\"orientation\":\"v\",\"showlegend\":true,\"type\":\"scatter\",\"x\":[2042.7],\"xaxis\":\"x\",\"y\":[606.4],\"yaxis\":\"y\"},{\"hovertemplate\":\"<b>%{hovertext}</b><br><br>state=Kansas<br>larceny_theft=%{x}<br>burglary=%{y}<br>population=%{marker.size}<extra></extra>\",\"hovertext\":[\"Kansas\"],\"legendgroup\":\"Kansas\",\"marker\":{\"color\":\"#B6E880\",\"size\":[2741771],\"sizemode\":\"area\",\"sizeref\":82153.65305555555,\"symbol\":\"circle\"},\"mode\":\"markers\",\"name\":\"Kansas\",\"orientation\":\"v\",\"showlegend\":true,\"type\":\"scatter\",\"x\":[2758.1],\"xaxis\":\"x\",\"y\":[689.2],\"yaxis\":\"y\"},{\"hovertemplate\":\"<b>%{hovertext}</b><br><br>state=Kentucky<br>larceny_theft=%{x}<br>burglary=%{y}<br>population=%{marker.size}<extra></extra>\",\"hovertext\":[\"Kentucky\"],\"legendgroup\":\"Kentucky\",\"marker\":{\"color\":\"#FF97FF\",\"size\":[4182293],\"sizemode\":\"area\",\"sizeref\":82153.65305555555,\"symbol\":\"circle\"},\"mode\":\"markers\",\"name\":\"Kentucky\",\"orientation\":\"v\",\"showlegend\":true,\"type\":\"scatter\",\"x\":[1685.8],\"xaxis\":\"x\",\"y\":[634.0],\"yaxis\":\"y\"},{\"hovertemplate\":\"<b>%{hovertext}</b><br><br>state=Louisiana<br>larceny_theft=%{x}<br>burglary=%{y}<br>population=%{marker.size}<extra></extra>\",\"hovertext\":[\"Louisiana\"],\"legendgroup\":\"Louisiana\",\"marker\":{\"color\":\"#FECB52\",\"size\":[4497691],\"sizemode\":\"area\",\"sizeref\":82153.65305555555,\"symbol\":\"circle\"},\"mode\":\"markers\",\"name\":\"Louisiana\",\"orientation\":\"v\",\"showlegend\":true,\"type\":\"scatter\",\"x\":[2494.5],\"xaxis\":\"x\",\"y\":[870.6],\"yaxis\":\"y\"},{\"hovertemplate\":\"<b>%{hovertext}</b><br><br>state=Maine<br>larceny_theft=%{x}<br>burglary=%{y}<br>population=%{marker.size}<extra></extra>\",\"hovertext\":[\"Maine\"],\"legendgroup\":\"Maine\",\"marker\":{\"color\":\"#636efa\",\"size\":[1311631],\"sizemode\":\"area\",\"sizeref\":82153.65305555555,\"symbol\":\"circle\"},\"mode\":\"markers\",\"name\":\"Maine\",\"orientation\":\"v\",\"showlegend\":true,\"type\":\"scatter\",\"x\":[1832.6],\"xaxis\":\"x\",\"y\":[478.5],\"yaxis\":\"y\"},{\"hovertemplate\":\"<b>%{hovertext}</b><br><br>state=Maryland<br>larceny_theft=%{x}<br>burglary=%{y}<br>population=%{marker.size}<extra></extra>\",\"hovertext\":[\"Maryland\"],\"legendgroup\":\"Maryland\",\"marker\":{\"color\":\"#EF553B\",\"size\":[5582520],\"sizemode\":\"area\",\"sizeref\":82153.65305555555,\"symbol\":\"circle\"},\"mode\":\"markers\",\"name\":\"Maryland\",\"orientation\":\"v\",\"showlegend\":true,\"type\":\"scatter\",\"x\":[2294.3],\"xaxis\":\"x\",\"y\":[641.4],\"yaxis\":\"y\"},{\"hovertemplate\":\"<b>%{hovertext}</b><br><br>state=Massachusetts<br>larceny_theft=%{x}<br>burglary=%{y}<br>population=%{marker.size}<extra></extra>\",\"hovertext\":[\"Massachusetts\"],\"legendgroup\":\"Massachusetts\",\"marker\":{\"color\":\"#00cc96\",\"size\":[6453031],\"sizemode\":\"area\",\"sizeref\":82153.65305555555,\"symbol\":\"circle\"},\"mode\":\"markers\",\"name\":\"Massachusetts\",\"orientation\":\"v\",\"showlegend\":true,\"type\":\"scatter\",\"x\":[1527.4],\"xaxis\":\"x\",\"y\":[541.1],\"yaxis\":\"y\"},{\"hovertemplate\":\"<b>%{hovertext}</b><br><br>state=Michigan<br>larceny_theft=%{x}<br>burglary=%{y}<br>population=%{marker.size}<extra></extra>\",\"hovertext\":[\"Michigan\"],\"legendgroup\":\"Michigan\",\"marker\":{\"color\":\"#ab63fa\",\"size\":[10090554],\"sizemode\":\"area\",\"sizeref\":82153.65305555555,\"symbol\":\"circle\"},\"mode\":\"markers\",\"name\":\"Michigan\",\"orientation\":\"v\",\"showlegend\":true,\"type\":\"scatter\",\"x\":[1917.8],\"xaxis\":\"x\",\"y\":[696.8],\"yaxis\":\"y\"},{\"hovertemplate\":\"<b>%{hovertext}</b><br><br>state=Minnesota<br>larceny_theft=%{x}<br>burglary=%{y}<br>population=%{marker.size}<extra></extra>\",\"hovertext\":[\"Minnesota\"],\"legendgroup\":\"Minnesota\",\"marker\":{\"color\":\"#FFA15A\",\"size\":[5106560],\"sizemode\":\"area\",\"sizeref\":82153.65305555555,\"symbol\":\"circle\"},\"mode\":\"markers\",\"name\":\"Minnesota\",\"orientation\":\"v\",\"showlegend\":true,\"type\":\"scatter\",\"x\":[2226.9],\"xaxis\":\"x\",\"y\":[578.9],\"yaxis\":\"y\"},{\"hovertemplate\":\"<b>%{hovertext}</b><br><br>state=Mississippi<br>larceny_theft=%{x}<br>burglary=%{y}<br>population=%{marker.size}<extra></extra>\",\"hovertext\":[\"Mississippi\"],\"legendgroup\":\"Mississippi\",\"marker\":{\"color\":\"#19d3f3\",\"size\":[2900116],\"sizemode\":\"area\",\"sizeref\":82153.65305555555,\"symbol\":\"circle\"},\"mode\":\"markers\",\"name\":\"Mississippi\",\"orientation\":\"v\",\"showlegend\":true,\"type\":\"scatter\",\"x\":[2083.9],\"xaxis\":\"x\",\"y\":[919.7],\"yaxis\":\"y\"},{\"hovertemplate\":\"<b>%{hovertext}</b><br><br>state=Missouri<br>larceny_theft=%{x}<br>burglary=%{y}<br>population=%{marker.size}<extra></extra>\",\"hovertext\":[\"Missouri\"],\"legendgroup\":\"Missouri\",\"marker\":{\"color\":\"#FF6692\",\"size\":[5806639],\"sizemode\":\"area\",\"sizeref\":82153.65305555555,\"symbol\":\"circle\"},\"mode\":\"markers\",\"name\":\"Missouri\",\"orientation\":\"v\",\"showlegend\":true,\"type\":\"scatter\",\"x\":[2746.2],\"xaxis\":\"x\",\"y\":[738.3],\"yaxis\":\"y\"},{\"hovertemplate\":\"<b>%{hovertext}</b><br><br>state=Montana<br>larceny_theft=%{x}<br>burglary=%{y}<br>population=%{marker.size}<extra></extra>\",\"hovertext\":[\"Montana\"],\"legendgroup\":\"Montana\",\"marker\":{\"color\":\"#B6E880\",\"size\":[934801],\"sizemode\":\"area\",\"sizeref\":82153.65305555555,\"symbol\":\"circle\"},\"mode\":\"markers\",\"name\":\"Montana\",\"orientation\":\"v\",\"showlegend\":true,\"type\":\"scatter\",\"x\":[2543.0],\"xaxis\":\"x\",\"y\":[389.2],\"yaxis\":\"y\"},{\"hovertemplate\":\"<b>%{hovertext}</b><br><br>state=Nebraska<br>larceny_theft=%{x}<br>burglary=%{y}<br>population=%{marker.size}<extra></extra>\",\"hovertext\":[\"Nebraska\"],\"legendgroup\":\"Nebraska\",\"marker\":{\"color\":\"#FF97FF\",\"size\":[1751721],\"sizemode\":\"area\",\"sizeref\":82153.65305555555,\"symbol\":\"circle\"},\"mode\":\"markers\",\"name\":\"Nebraska\",\"orientation\":\"v\",\"showlegend\":true,\"type\":\"scatter\",\"x\":[2574.3],\"xaxis\":\"x\",\"y\":[532.4],\"yaxis\":\"y\"},{\"hovertemplate\":\"<b>%{hovertext}</b><br><br>state=Nevada<br>larceny_theft=%{x}<br>burglary=%{y}<br>population=%{marker.size}<extra></extra>\",\"hovertext\":[\"Nevada\"],\"legendgroup\":\"Nevada\",\"marker\":{\"color\":\"#FECB52\",\"size\":[2408804],\"sizemode\":\"area\",\"sizeref\":82153.65305555555,\"symbol\":\"circle\"},\"mode\":\"markers\",\"name\":\"Nevada\",\"orientation\":\"v\",\"showlegend\":true,\"type\":\"scatter\",\"x\":[2153.9],\"xaxis\":\"x\",\"y\":[972.4],\"yaxis\":\"y\"},{\"hovertemplate\":\"<b>%{hovertext}</b><br><br>state=New Hampshire<br>larceny_theft=%{x}<br>burglary=%{y}<br>population=%{marker.size}<extra></extra>\",\"hovertext\":[\"New Hampshire\"],\"legendgroup\":\"New Hampshire\",\"marker\":{\"color\":\"#636efa\",\"size\":[1301415],\"sizemode\":\"area\",\"sizeref\":82153.65305555555,\"symbol\":\"circle\"},\"mode\":\"markers\",\"name\":\"New Hampshire\",\"orientation\":\"v\",\"showlegend\":true,\"type\":\"scatter\",\"x\":[1377.3],\"xaxis\":\"x\",\"y\":[317.0],\"yaxis\":\"y\"},{\"hovertemplate\":\"<b>%{hovertext}</b><br><br>state=New Jersey<br>larceny_theft=%{x}<br>burglary=%{y}<br>population=%{marker.size}<extra></extra>\",\"hovertext\":[\"New Jersey\"],\"legendgroup\":\"New Jersey\",\"marker\":{\"color\":\"#EF553B\",\"size\":[8621837],\"sizemode\":\"area\",\"sizeref\":82153.65305555555,\"symbol\":\"circle\"},\"mode\":\"markers\",\"name\":\"New Jersey\",\"orientation\":\"v\",\"showlegend\":true,\"type\":\"scatter\",\"x\":[1568.4],\"xaxis\":\"x\",\"y\":[447.1],\"yaxis\":\"y\"},{\"hovertemplate\":\"<b>%{hovertext}</b><br><br>state=New Mexico<br>larceny_theft=%{x}<br>burglary=%{y}<br>population=%{marker.size}<extra></extra>\",\"hovertext\":[\"New Mexico\"],\"legendgroup\":\"New Mexico\",\"marker\":{\"color\":\"#00cc96\",\"size\":[1916538],\"sizemode\":\"area\",\"sizeref\":82153.65305555555,\"symbol\":\"circle\"},\"mode\":\"markers\",\"name\":\"New Mexico\",\"orientation\":\"v\",\"showlegend\":true,\"type\":\"scatter\",\"x\":[2639.9],\"xaxis\":\"x\",\"y\":[1093.9],\"yaxis\":\"y\"},{\"hovertemplate\":\"<b>%{hovertext}</b><br><br>state=New York<br>larceny_theft=%{x}<br>burglary=%{y}<br>population=%{marker.size}<extra></extra>\",\"hovertext\":[\"New York\"],\"legendgroup\":\"New York\",\"marker\":{\"color\":\"#ab63fa\",\"size\":[19330891],\"sizemode\":\"area\",\"sizeref\":82153.65305555555,\"symbol\":\"circle\"},\"mode\":\"markers\",\"name\":\"New York\",\"orientation\":\"v\",\"showlegend\":true,\"type\":\"scatter\",\"x\":[1569.6],\"xaxis\":\"x\",\"y\":[353.3],\"yaxis\":\"y\"},{\"hovertemplate\":\"<b>%{hovertext}</b><br><br>state=North Carolina<br>larceny_theft=%{x}<br>burglary=%{y}<br>population=%{marker.size}<extra></extra>\",\"hovertext\":[\"North Carolina\"],\"legendgroup\":\"North Carolina\",\"marker\":{\"color\":\"#FFA15A\",\"size\":[8669452],\"sizemode\":\"area\",\"sizeref\":82153.65305555555,\"symbol\":\"circle\"},\"mode\":\"markers\",\"name\":\"North Carolina\",\"orientation\":\"v\",\"showlegend\":true,\"type\":\"scatter\",\"x\":[2546.2],\"xaxis\":\"x\",\"y\":[1201.1],\"yaxis\":\"y\"},{\"hovertemplate\":\"<b>%{hovertext}</b><br><br>state=North Dakota<br>larceny_theft=%{x}<br>burglary=%{y}<br>population=%{marker.size}<extra></extra>\",\"hovertext\":[\"North Dakota\"],\"legendgroup\":\"North Dakota\",\"marker\":{\"color\":\"#19d3f3\",\"size\":[635365],\"sizemode\":\"area\",\"sizeref\":82153.65305555555,\"symbol\":\"circle\"},\"mode\":\"markers\",\"name\":\"North Dakota\",\"orientation\":\"v\",\"showlegend\":true,\"type\":\"scatter\",\"x\":[1500.3],\"xaxis\":\"x\",\"y\":[311.9],\"yaxis\":\"y\"},{\"hovertemplate\":\"<b>%{hovertext}</b><br><br>state=Ohio<br>larceny_theft=%{x}<br>burglary=%{y}<br>population=%{marker.size}<extra></extra>\",\"hovertext\":[\"Ohio\"],\"legendgroup\":\"Ohio\",\"marker\":{\"color\":\"#FF6692\",\"size\":[11475262],\"sizemode\":\"area\",\"sizeref\":82153.65305555555,\"symbol\":\"circle\"},\"mode\":\"markers\",\"name\":\"Ohio\",\"orientation\":\"v\",\"showlegend\":true,\"type\":\"scatter\",\"x\":[2429.0],\"xaxis\":\"x\",\"y\":[872.8],\"yaxis\":\"y\"},{\"hovertemplate\":\"<b>%{hovertext}</b><br><br>state=Oklahoma<br>larceny_theft=%{x}<br>burglary=%{y}<br>population=%{marker.size}<extra></extra>\",\"hovertext\":[\"Oklahoma\"],\"legendgroup\":\"Oklahoma\",\"marker\":{\"color\":\"#B6E880\",\"size\":[3532769],\"sizemode\":\"area\",\"sizeref\":82153.65305555555,\"symbol\":\"circle\"},\"mode\":\"markers\",\"name\":\"Oklahoma\",\"orientation\":\"v\",\"showlegend\":true,\"type\":\"scatter\",\"x\":[2644.2],\"xaxis\":\"x\",\"y\":[1006.0],\"yaxis\":\"y\"},{\"hovertemplate\":\"<b>%{hovertext}</b><br><br>state=Oregon<br>larceny_theft=%{x}<br>burglary=%{y}<br>population=%{marker.size}<extra></extra>\",\"hovertext\":[\"Oregon\"],\"legendgroup\":\"Oregon\",\"marker\":{\"color\":\"#FF97FF\",\"size\":[3617869],\"sizemode\":\"area\",\"sizeref\":82153.65305555555,\"symbol\":\"circle\"},\"mode\":\"markers\",\"name\":\"Oregon\",\"orientation\":\"v\",\"showlegend\":true,\"type\":\"scatter\",\"x\":[3112.2],\"xaxis\":\"x\",\"y\":[758.6],\"yaxis\":\"y\"},{\"hovertemplate\":\"<b>%{hovertext}</b><br><br>state=Pennsylvania<br>larceny_theft=%{x}<br>burglary=%{y}<br>population=%{marker.size}<extra></extra>\",\"hovertext\":[\"Pennsylvania\"],\"legendgroup\":\"Pennsylvania\",\"marker\":{\"color\":\"#FECB52\",\"size\":[12418161],\"sizemode\":\"area\",\"sizeref\":82153.65305555555,\"symbol\":\"circle\"},\"mode\":\"markers\",\"name\":\"Pennsylvania\",\"orientation\":\"v\",\"showlegend\":true,\"type\":\"scatter\",\"x\":[1729.1],\"xaxis\":\"x\",\"y\":[451.6],\"yaxis\":\"y\"},{\"hovertemplate\":\"<b>%{hovertext}</b><br><br>state=Rhode Island<br>larceny_theft=%{x}<br>burglary=%{y}<br>population=%{marker.size}<extra></extra>\",\"hovertext\":[\"Rhode Island\"],\"legendgroup\":\"Rhode Island\",\"marker\":{\"color\":\"#636efa\",\"size\":[1064989],\"sizemode\":\"area\",\"sizeref\":82153.65305555555,\"symbol\":\"circle\"},\"mode\":\"markers\",\"name\":\"Rhode Island\",\"orientation\":\"v\",\"showlegend\":true,\"type\":\"scatter\",\"x\":[1816.0],\"xaxis\":\"x\",\"y\":[494.2],\"yaxis\":\"y\"},{\"hovertemplate\":\"<b>%{hovertext}</b><br><br>state=South Carolina<br>larceny_theft=%{x}<br>burglary=%{y}<br>population=%{marker.size}<extra></extra>\",\"hovertext\":[\"South Carolina\"],\"legendgroup\":\"South Carolina\",\"marker\":{\"color\":\"#EF553B\",\"size\":[4256199],\"sizemode\":\"area\",\"sizeref\":82153.65305555555,\"symbol\":\"circle\"},\"mode\":\"markers\",\"name\":\"South Carolina\",\"orientation\":\"v\",\"showlegend\":true,\"type\":\"scatter\",\"x\":[2954.1],\"xaxis\":\"x\",\"y\":[1000.9],\"yaxis\":\"y\"},{\"hovertemplate\":\"<b>%{hovertext}</b><br><br>state=South Dakota<br>larceny_theft=%{x}<br>burglary=%{y}<br>population=%{marker.size}<extra></extra>\",\"hovertext\":[\"South Dakota\"],\"legendgroup\":\"South Dakota\",\"marker\":{\"color\":\"#00cc96\",\"size\":[780084],\"sizemode\":\"area\",\"sizeref\":82153.65305555555,\"symbol\":\"circle\"},\"mode\":\"markers\",\"name\":\"South Dakota\",\"orientation\":\"v\",\"showlegend\":true,\"type\":\"scatter\",\"x\":[1343.7],\"xaxis\":\"x\",\"y\":[324.4],\"yaxis\":\"y\"},{\"hovertemplate\":\"<b>%{hovertext}</b><br><br>state=Tennessee<br>larceny_theft=%{x}<br>burglary=%{y}<br>population=%{marker.size}<extra></extra>\",\"hovertext\":[\"Tennessee\"],\"legendgroup\":\"Tennessee\",\"marker\":{\"color\":\"#ab63fa\",\"size\":[5995748],\"sizemode\":\"area\",\"sizeref\":82153.65305555555,\"symbol\":\"circle\"},\"mode\":\"markers\",\"name\":\"Tennessee\",\"orientation\":\"v\",\"showlegend\":true,\"type\":\"scatter\",\"x\":[2828.1],\"xaxis\":\"x\",\"y\":[1026.9],\"yaxis\":\"y\"},{\"hovertemplate\":\"<b>%{hovertext}</b><br><br>state=Texas<br>larceny_theft=%{x}<br>burglary=%{y}<br>population=%{marker.size}<extra></extra>\",\"hovertext\":[\"Texas\"],\"legendgroup\":\"Texas\",\"marker\":{\"color\":\"#FFA15A\",\"size\":[22801920],\"sizemode\":\"area\",\"sizeref\":82153.65305555555,\"symbol\":\"circle\"},\"mode\":\"markers\",\"name\":\"Texas\",\"orientation\":\"v\",\"showlegend\":true,\"type\":\"scatter\",\"x\":[2961.7],\"xaxis\":\"x\",\"y\":[961.6],\"yaxis\":\"y\"},{\"hovertemplate\":\"<b>%{hovertext}</b><br><br>state=Utah<br>larceny_theft=%{x}<br>burglary=%{y}<br>population=%{marker.size}<extra></extra>\",\"hovertext\":[\"Utah\"],\"legendgroup\":\"Utah\",\"marker\":{\"color\":\"#19d3f3\",\"size\":[2499637],\"sizemode\":\"area\",\"sizeref\":82153.65305555555,\"symbol\":\"circle\"},\"mode\":\"markers\",\"name\":\"Utah\",\"orientation\":\"v\",\"showlegend\":true,\"type\":\"scatter\",\"x\":[2918.8],\"xaxis\":\"x\",\"y\":[606.2],\"yaxis\":\"y\"},{\"hovertemplate\":\"<b>%{hovertext}</b><br><br>state=Vermont<br>larceny_theft=%{x}<br>burglary=%{y}<br>population=%{marker.size}<extra></extra>\",\"hovertext\":[\"Vermont\"],\"legendgroup\":\"Vermont\",\"marker\":{\"color\":\"#FF6692\",\"size\":[618814],\"sizemode\":\"area\",\"sizeref\":82153.65305555555,\"symbol\":\"circle\"},\"mode\":\"markers\",\"name\":\"Vermont\",\"orientation\":\"v\",\"showlegend\":true,\"type\":\"scatter\",\"x\":[1686.1],\"xaxis\":\"x\",\"y\":[491.8],\"yaxis\":\"y\"},{\"hovertemplate\":\"<b>%{hovertext}</b><br><br>state=Virginia<br>larceny_theft=%{x}<br>burglary=%{y}<br>population=%{marker.size}<extra></extra>\",\"hovertext\":[\"Virginia\"],\"legendgroup\":\"Virginia\",\"marker\":{\"color\":\"#B6E880\",\"size\":[7563887],\"sizemode\":\"area\",\"sizeref\":82153.65305555555,\"symbol\":\"circle\"},\"mode\":\"markers\",\"name\":\"Virginia\",\"orientation\":\"v\",\"showlegend\":true,\"type\":\"scatter\",\"x\":[2035.0],\"xaxis\":\"x\",\"y\":[392.1],\"yaxis\":\"y\"},{\"hovertemplate\":\"<b>%{hovertext}</b><br><br>state=Washington<br>larceny_theft=%{x}<br>burglary=%{y}<br>population=%{marker.size}<extra></extra>\",\"hovertext\":[\"Washington\"],\"legendgroup\":\"Washington\",\"marker\":{\"color\":\"#FF97FF\",\"size\":[6261282],\"sizemode\":\"area\",\"sizeref\":82153.65305555555,\"symbol\":\"circle\"},\"mode\":\"markers\",\"name\":\"Washington\",\"orientation\":\"v\",\"showlegend\":true,\"type\":\"scatter\",\"x\":[3149.5],\"xaxis\":\"x\",\"y\":[959.7],\"yaxis\":\"y\"},{\"hovertemplate\":\"<b>%{hovertext}</b><br><br>state=West Virginia<br>larceny_theft=%{x}<br>burglary=%{y}<br>population=%{marker.size}<extra></extra>\",\"hovertext\":[\"West Virginia\"],\"legendgroup\":\"West Virginia\",\"marker\":{\"color\":\"#FECB52\",\"size\":[1803920],\"sizemode\":\"area\",\"sizeref\":82153.65305555555,\"symbol\":\"circle\"},\"mode\":\"markers\",\"name\":\"West Virginia\",\"orientation\":\"v\",\"showlegend\":true,\"type\":\"scatter\",\"x\":[1794.0],\"xaxis\":\"x\",\"y\":[621.2],\"yaxis\":\"y\"},{\"hovertemplate\":\"<b>%{hovertext}</b><br><br>state=Wisconsin<br>larceny_theft=%{x}<br>burglary=%{y}<br>population=%{marker.size}<extra></extra>\",\"hovertext\":[\"Wisconsin\"],\"legendgroup\":\"Wisconsin\",\"marker\":{\"color\":\"#636efa\",\"size\":[5541443],\"sizemode\":\"area\",\"sizeref\":82153.65305555555,\"symbol\":\"circle\"},\"mode\":\"markers\",\"name\":\"Wisconsin\",\"orientation\":\"v\",\"showlegend\":true,\"type\":\"scatter\",\"x\":[1992.8],\"xaxis\":\"x\",\"y\":[440.8],\"yaxis\":\"y\"},{\"hovertemplate\":\"<b>%{hovertext}</b><br><br>state=Wyoming<br>larceny_theft=%{x}<br>burglary=%{y}<br>population=%{marker.size}<extra></extra>\",\"hovertext\":[\"Wyoming\"],\"legendgroup\":\"Wyoming\",\"marker\":{\"color\":\"#EF553B\",\"size\":[506242],\"sizemode\":\"area\",\"sizeref\":82153.65305555555,\"symbol\":\"circle\"},\"mode\":\"markers\",\"name\":\"Wyoming\",\"orientation\":\"v\",\"showlegend\":true,\"type\":\"scatter\",\"x\":[2533.9],\"xaxis\":\"x\",\"y\":[476.3],\"yaxis\":\"y\"}],                        {\"legend\":{\"itemsizing\":\"constant\",\"title\":{\"text\":\"state\"},\"tracegroupgap\":0},\"template\":{\"data\":{\"bar\":[{\"error_x\":{\"color\":\"#2a3f5f\"},\"error_y\":{\"color\":\"#2a3f5f\"},\"marker\":{\"line\":{\"color\":\"#E5ECF6\",\"width\":0.5},\"pattern\":{\"fillmode\":\"overlay\",\"size\":10,\"solidity\":0.2}},\"type\":\"bar\"}],\"barpolar\":[{\"marker\":{\"line\":{\"color\":\"#E5ECF6\",\"width\":0.5},\"pattern\":{\"fillmode\":\"overlay\",\"size\":10,\"solidity\":0.2}},\"type\":\"barpolar\"}],\"carpet\":[{\"aaxis\":{\"endlinecolor\":\"#2a3f5f\",\"gridcolor\":\"white\",\"linecolor\":\"white\",\"minorgridcolor\":\"white\",\"startlinecolor\":\"#2a3f5f\"},\"baxis\":{\"endlinecolor\":\"#2a3f5f\",\"gridcolor\":\"white\",\"linecolor\":\"white\",\"minorgridcolor\":\"white\",\"startlinecolor\":\"#2a3f5f\"},\"type\":\"carpet\"}],\"choropleth\":[{\"colorbar\":{\"outlinewidth\":0,\"ticks\":\"\"},\"type\":\"choropleth\"}],\"contour\":[{\"colorbar\":{\"outlinewidth\":0,\"ticks\":\"\"},\"colorscale\":[[0.0,\"#0d0887\"],[0.1111111111111111,\"#46039f\"],[0.2222222222222222,\"#7201a8\"],[0.3333333333333333,\"#9c179e\"],[0.4444444444444444,\"#bd3786\"],[0.5555555555555556,\"#d8576b\"],[0.6666666666666666,\"#ed7953\"],[0.7777777777777778,\"#fb9f3a\"],[0.8888888888888888,\"#fdca26\"],[1.0,\"#f0f921\"]],\"type\":\"contour\"}],\"contourcarpet\":[{\"colorbar\":{\"outlinewidth\":0,\"ticks\":\"\"},\"type\":\"contourcarpet\"}],\"heatmap\":[{\"colorbar\":{\"outlinewidth\":0,\"ticks\":\"\"},\"colorscale\":[[0.0,\"#0d0887\"],[0.1111111111111111,\"#46039f\"],[0.2222222222222222,\"#7201a8\"],[0.3333333333333333,\"#9c179e\"],[0.4444444444444444,\"#bd3786\"],[0.5555555555555556,\"#d8576b\"],[0.6666666666666666,\"#ed7953\"],[0.7777777777777778,\"#fb9f3a\"],[0.8888888888888888,\"#fdca26\"],[1.0,\"#f0f921\"]],\"type\":\"heatmap\"}],\"heatmapgl\":[{\"colorbar\":{\"outlinewidth\":0,\"ticks\":\"\"},\"colorscale\":[[0.0,\"#0d0887\"],[0.1111111111111111,\"#46039f\"],[0.2222222222222222,\"#7201a8\"],[0.3333333333333333,\"#9c179e\"],[0.4444444444444444,\"#bd3786\"],[0.5555555555555556,\"#d8576b\"],[0.6666666666666666,\"#ed7953\"],[0.7777777777777778,\"#fb9f3a\"],[0.8888888888888888,\"#fdca26\"],[1.0,\"#f0f921\"]],\"type\":\"heatmapgl\"}],\"histogram\":[{\"marker\":{\"pattern\":{\"fillmode\":\"overlay\",\"size\":10,\"solidity\":0.2}},\"type\":\"histogram\"}],\"histogram2d\":[{\"colorbar\":{\"outlinewidth\":0,\"ticks\":\"\"},\"colorscale\":[[0.0,\"#0d0887\"],[0.1111111111111111,\"#46039f\"],[0.2222222222222222,\"#7201a8\"],[0.3333333333333333,\"#9c179e\"],[0.4444444444444444,\"#bd3786\"],[0.5555555555555556,\"#d8576b\"],[0.6666666666666666,\"#ed7953\"],[0.7777777777777778,\"#fb9f3a\"],[0.8888888888888888,\"#fdca26\"],[1.0,\"#f0f921\"]],\"type\":\"histogram2d\"}],\"histogram2dcontour\":[{\"colorbar\":{\"outlinewidth\":0,\"ticks\":\"\"},\"colorscale\":[[0.0,\"#0d0887\"],[0.1111111111111111,\"#46039f\"],[0.2222222222222222,\"#7201a8\"],[0.3333333333333333,\"#9c179e\"],[0.4444444444444444,\"#bd3786\"],[0.5555555555555556,\"#d8576b\"],[0.6666666666666666,\"#ed7953\"],[0.7777777777777778,\"#fb9f3a\"],[0.8888888888888888,\"#fdca26\"],[1.0,\"#f0f921\"]],\"type\":\"histogram2dcontour\"}],\"mesh3d\":[{\"colorbar\":{\"outlinewidth\":0,\"ticks\":\"\"},\"type\":\"mesh3d\"}],\"parcoords\":[{\"line\":{\"colorbar\":{\"outlinewidth\":0,\"ticks\":\"\"}},\"type\":\"parcoords\"}],\"pie\":[{\"automargin\":true,\"type\":\"pie\"}],\"scatter\":[{\"marker\":{\"colorbar\":{\"outlinewidth\":0,\"ticks\":\"\"}},\"type\":\"scatter\"}],\"scatter3d\":[{\"line\":{\"colorbar\":{\"outlinewidth\":0,\"ticks\":\"\"}},\"marker\":{\"colorbar\":{\"outlinewidth\":0,\"ticks\":\"\"}},\"type\":\"scatter3d\"}],\"scattercarpet\":[{\"marker\":{\"colorbar\":{\"outlinewidth\":0,\"ticks\":\"\"}},\"type\":\"scattercarpet\"}],\"scattergeo\":[{\"marker\":{\"colorbar\":{\"outlinewidth\":0,\"ticks\":\"\"}},\"type\":\"scattergeo\"}],\"scattergl\":[{\"marker\":{\"colorbar\":{\"outlinewidth\":0,\"ticks\":\"\"}},\"type\":\"scattergl\"}],\"scattermapbox\":[{\"marker\":{\"colorbar\":{\"outlinewidth\":0,\"ticks\":\"\"}},\"type\":\"scattermapbox\"}],\"scatterpolar\":[{\"marker\":{\"colorbar\":{\"outlinewidth\":0,\"ticks\":\"\"}},\"type\":\"scatterpolar\"}],\"scatterpolargl\":[{\"marker\":{\"colorbar\":{\"outlinewidth\":0,\"ticks\":\"\"}},\"type\":\"scatterpolargl\"}],\"scatterternary\":[{\"marker\":{\"colorbar\":{\"outlinewidth\":0,\"ticks\":\"\"}},\"type\":\"scatterternary\"}],\"surface\":[{\"colorbar\":{\"outlinewidth\":0,\"ticks\":\"\"},\"colorscale\":[[0.0,\"#0d0887\"],[0.1111111111111111,\"#46039f\"],[0.2222222222222222,\"#7201a8\"],[0.3333333333333333,\"#9c179e\"],[0.4444444444444444,\"#bd3786\"],[0.5555555555555556,\"#d8576b\"],[0.6666666666666666,\"#ed7953\"],[0.7777777777777778,\"#fb9f3a\"],[0.8888888888888888,\"#fdca26\"],[1.0,\"#f0f921\"]],\"type\":\"surface\"}],\"table\":[{\"cells\":{\"fill\":{\"color\":\"#EBF0F8\"},\"line\":{\"color\":\"white\"}},\"header\":{\"fill\":{\"color\":\"#C8D4E3\"},\"line\":{\"color\":\"white\"}},\"type\":\"table\"}]},\"layout\":{\"annotationdefaults\":{\"arrowcolor\":\"#2a3f5f\",\"arrowhead\":0,\"arrowwidth\":1},\"autotypenumbers\":\"strict\",\"coloraxis\":{\"colorbar\":{\"outlinewidth\":0,\"ticks\":\"\"}},\"colorscale\":{\"diverging\":[[0,\"#8e0152\"],[0.1,\"#c51b7d\"],[0.2,\"#de77ae\"],[0.3,\"#f1b6da\"],[0.4,\"#fde0ef\"],[0.5,\"#f7f7f7\"],[0.6,\"#e6f5d0\"],[0.7,\"#b8e186\"],[0.8,\"#7fbc41\"],[0.9,\"#4d9221\"],[1,\"#276419\"]],\"sequential\":[[0.0,\"#0d0887\"],[0.1111111111111111,\"#46039f\"],[0.2222222222222222,\"#7201a8\"],[0.3333333333333333,\"#9c179e\"],[0.4444444444444444,\"#bd3786\"],[0.5555555555555556,\"#d8576b\"],[0.6666666666666666,\"#ed7953\"],[0.7777777777777778,\"#fb9f3a\"],[0.8888888888888888,\"#fdca26\"],[1.0,\"#f0f921\"]],\"sequentialminus\":[[0.0,\"#0d0887\"],[0.1111111111111111,\"#46039f\"],[0.2222222222222222,\"#7201a8\"],[0.3333333333333333,\"#9c179e\"],[0.4444444444444444,\"#bd3786\"],[0.5555555555555556,\"#d8576b\"],[0.6666666666666666,\"#ed7953\"],[0.7777777777777778,\"#fb9f3a\"],[0.8888888888888888,\"#fdca26\"],[1.0,\"#f0f921\"]]},\"colorway\":[\"#636efa\",\"#EF553B\",\"#00cc96\",\"#ab63fa\",\"#FFA15A\",\"#19d3f3\",\"#FF6692\",\"#B6E880\",\"#FF97FF\",\"#FECB52\"],\"font\":{\"color\":\"#2a3f5f\"},\"geo\":{\"bgcolor\":\"white\",\"lakecolor\":\"white\",\"landcolor\":\"#E5ECF6\",\"showlakes\":true,\"showland\":true,\"subunitcolor\":\"white\"},\"hoverlabel\":{\"align\":\"left\"},\"hovermode\":\"closest\",\"mapbox\":{\"style\":\"light\"},\"paper_bgcolor\":\"white\",\"plot_bgcolor\":\"#E5ECF6\",\"polar\":{\"angularaxis\":{\"gridcolor\":\"white\",\"linecolor\":\"white\",\"ticks\":\"\"},\"bgcolor\":\"#E5ECF6\",\"radialaxis\":{\"gridcolor\":\"white\",\"linecolor\":\"white\",\"ticks\":\"\"}},\"scene\":{\"xaxis\":{\"backgroundcolor\":\"#E5ECF6\",\"gridcolor\":\"white\",\"gridwidth\":2,\"linecolor\":\"white\",\"showbackground\":true,\"ticks\":\"\",\"zerolinecolor\":\"white\"},\"yaxis\":{\"backgroundcolor\":\"#E5ECF6\",\"gridcolor\":\"white\",\"gridwidth\":2,\"linecolor\":\"white\",\"showbackground\":true,\"ticks\":\"\",\"zerolinecolor\":\"white\"},\"zaxis\":{\"backgroundcolor\":\"#E5ECF6\",\"gridcolor\":\"white\",\"gridwidth\":2,\"linecolor\":\"white\",\"showbackground\":true,\"ticks\":\"\",\"zerolinecolor\":\"white\"}},\"shapedefaults\":{\"line\":{\"color\":\"#2a3f5f\"}},\"ternary\":{\"aaxis\":{\"gridcolor\":\"white\",\"linecolor\":\"white\",\"ticks\":\"\"},\"baxis\":{\"gridcolor\":\"white\",\"linecolor\":\"white\",\"ticks\":\"\"},\"bgcolor\":\"#E5ECF6\",\"caxis\":{\"gridcolor\":\"white\",\"linecolor\":\"white\",\"ticks\":\"\"}},\"title\":{\"x\":0.05},\"xaxis\":{\"automargin\":true,\"gridcolor\":\"white\",\"linecolor\":\"white\",\"ticks\":\"\",\"title\":{\"standoff\":15},\"zerolinecolor\":\"white\",\"zerolinewidth\":2},\"yaxis\":{\"automargin\":true,\"gridcolor\":\"white\",\"linecolor\":\"white\",\"ticks\":\"\",\"title\":{\"standoff\":15},\"zerolinecolor\":\"white\",\"zerolinewidth\":2}}},\"title\":{\"text\":\"Python - Bubble Chart\"},\"xaxis\":{\"anchor\":\"y\",\"domain\":[0.0,1.0],\"title\":{\"text\":\"larceny_theft\"},\"type\":\"log\"},\"yaxis\":{\"anchor\":\"x\",\"domain\":[0.0,1.0],\"title\":{\"text\":\"burglary\"}}},                        {\"responsive\": true}                    ).then(function(){\n                            \nvar gd = document.getElementById('a58d1f36-eb3b-440f-acfd-67ed2ba53141');\nvar x = new MutationObserver(function (mutations, observer) {{\n        var display = window.getComputedStyle(gd).display;\n        if (!display || display === 'none') {{\n            console.log([gd, 'removed!']);\n            Plotly.purge(gd);\n            observer.disconnect();\n        }}\n}});\n\n// Listen for the removal of the full notebook cells\nvar notebookContainer = gd.closest('#notebook-container');\nif (notebookContainer) {{\n    x.observe(notebookContainer, {childList: true});\n}}\n\n// Listen for the clearing of the current output cell\nvar outputEl = gd.closest('.output');\nif (outputEl) {{\n    x.observe(outputEl, {childList: true});\n}}\n\n                        })                };                });            </script>        </div>"
     },
     "metadata": {},
     "output_type": "display_data"
    }
   ],
   "source": [
    "# Python Bubble Chart\n",
    "\n",
    "fig = px.scatter(df, x=\"larceny_theft\", y=\"burglary\", title='Python - Bubble Chart',\n",
    "\t         size=\"population\", color=\"state\",\n",
    "                 hover_name=\"state\", log_x=True, size_max=60)\n",
    "fig.show()\n"
   ],
   "metadata": {
    "collapsed": false,
    "pycharm": {
     "name": "#%%\n"
    }
   }
  }
 ],
 "metadata": {
  "kernelspec": {
   "display_name": "Python 3",
   "language": "python",
   "name": "python3"
  },
  "language_info": {
   "codemirror_mode": {
    "name": "ipython",
    "version": 2
   },
   "file_extension": ".py",
   "mimetype": "text/x-python",
   "name": "python",
   "nbconvert_exporter": "python",
   "pygments_lexer": "ipython2",
   "version": "2.7.6"
  }
 },
 "nbformat": 4,
 "nbformat_minor": 0
}